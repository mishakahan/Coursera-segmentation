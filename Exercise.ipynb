{
  "nbformat": 4,
  "nbformat_minor": 0,
  "metadata": {
    "colab": {
      "name": "Exercise.ipynb",
      "provenance": [],
      "toc_visible": true,
      "include_colab_link": true
    },
    "kernelspec": {
      "name": "python3",
      "display_name": "Python 3"
    },
    "language_info": {
      "name": "python"
    }
  },
  "cells": [
    {
      "cell_type": "markdown",
      "metadata": {
        "id": "view-in-github",
        "colab_type": "text"
      },
      "source": [
        "<a href=\"https://colab.research.google.com/github/mishakahan/Coursera-segmentation/blob/main/Exercise.ipynb\" target=\"_parent\"><img src=\"https://colab.research.google.com/assets/colab-badge.svg\" alt=\"Open In Colab\"/></a>"
      ]
    },
    {
      "cell_type": "markdown",
      "metadata": {
        "id": "aFD-0uOt1rn9"
      },
      "source": [
        "# Exercise"
      ]
    },
    {
      "cell_type": "code",
      "metadata": {
        "id": "Om2nrRAVIXQN"
      },
      "source": [
        "#@title Import relevant modules\n",
        "import pandas as pd\n",
        "import tensorflow as tf\n",
        "import numpy as np\n",
        "from matplotlib import pyplot as plt\n",
        "import numpy as np"
      ],
      "execution_count": 47,
      "outputs": []
    },
    {
      "cell_type": "code",
      "metadata": {
        "id": "kooMO7-CIc8T"
      },
      "source": [
        "#@title Run on TensorFlow 2.x\n",
        "%tensorflow_version 2.x"
      ],
      "execution_count": 48,
      "outputs": []
    },
    {
      "cell_type": "code",
      "metadata": {
        "id": "8NJuesYUIgB0"
      },
      "source": [
        "pd.options.display.float_format = \"{:.1f}\".format"
      ],
      "execution_count": 49,
      "outputs": []
    },
    {
      "cell_type": "code",
      "metadata": {
        "colab": {
          "base_uri": "https://localhost:8080/",
          "height": 447
        },
        "id": "4Q0YNVd4Ih2X",
        "outputId": "ba825f0d-dcb0-4e56-bbb0-fd6b0ce800d7"
      },
      "source": [
        "# @title Import the dataset\n",
        "Full_df = pd.read_csv(filepath_or_buffer=\"https://raw.githubusercontent.com/mishakahan/ML_experiments/main/CarPrice_Assignment.csv\")\n",
        "# Print the first rows of the pandas DataFrame.\n",
        "Full_df.head(10)"
      ],
      "execution_count": 50,
      "outputs": [
        {
          "output_type": "execute_result",
          "data": {
            "text/html": [
              "<div>\n",
              "<style scoped>\n",
              "    .dataframe tbody tr th:only-of-type {\n",
              "        vertical-align: middle;\n",
              "    }\n",
              "\n",
              "    .dataframe tbody tr th {\n",
              "        vertical-align: top;\n",
              "    }\n",
              "\n",
              "    .dataframe thead th {\n",
              "        text-align: right;\n",
              "    }\n",
              "</style>\n",
              "<table border=\"1\" class=\"dataframe\">\n",
              "  <thead>\n",
              "    <tr style=\"text-align: right;\">\n",
              "      <th></th>\n",
              "      <th>car_ID</th>\n",
              "      <th>symboling</th>\n",
              "      <th>CarName</th>\n",
              "      <th>fueltype</th>\n",
              "      <th>aspiration</th>\n",
              "      <th>doornumber</th>\n",
              "      <th>carbody</th>\n",
              "      <th>drivewheel</th>\n",
              "      <th>enginelocation</th>\n",
              "      <th>wheelbase</th>\n",
              "      <th>carlength</th>\n",
              "      <th>carwidth</th>\n",
              "      <th>carheight</th>\n",
              "      <th>curbweight</th>\n",
              "      <th>enginetype</th>\n",
              "      <th>cylindernumber</th>\n",
              "      <th>enginesize</th>\n",
              "      <th>fuelsystem</th>\n",
              "      <th>boreratio</th>\n",
              "      <th>stroke</th>\n",
              "      <th>compressionratio</th>\n",
              "      <th>horsepower</th>\n",
              "      <th>peakrpm</th>\n",
              "      <th>citympg</th>\n",
              "      <th>highwaympg</th>\n",
              "      <th>price</th>\n",
              "    </tr>\n",
              "  </thead>\n",
              "  <tbody>\n",
              "    <tr>\n",
              "      <th>0</th>\n",
              "      <td>1</td>\n",
              "      <td>3</td>\n",
              "      <td>alfa-romero giulia</td>\n",
              "      <td>gas</td>\n",
              "      <td>std</td>\n",
              "      <td>two</td>\n",
              "      <td>convertible</td>\n",
              "      <td>rwd</td>\n",
              "      <td>front</td>\n",
              "      <td>88.6</td>\n",
              "      <td>168.8</td>\n",
              "      <td>64.1</td>\n",
              "      <td>48.8</td>\n",
              "      <td>2548</td>\n",
              "      <td>dohc</td>\n",
              "      <td>four</td>\n",
              "      <td>130</td>\n",
              "      <td>mpfi</td>\n",
              "      <td>3.5</td>\n",
              "      <td>2.7</td>\n",
              "      <td>9.0</td>\n",
              "      <td>111</td>\n",
              "      <td>5000</td>\n",
              "      <td>21</td>\n",
              "      <td>27</td>\n",
              "      <td>13495.0</td>\n",
              "    </tr>\n",
              "    <tr>\n",
              "      <th>1</th>\n",
              "      <td>2</td>\n",
              "      <td>3</td>\n",
              "      <td>alfa-romero stelvio</td>\n",
              "      <td>gas</td>\n",
              "      <td>std</td>\n",
              "      <td>two</td>\n",
              "      <td>convertible</td>\n",
              "      <td>rwd</td>\n",
              "      <td>front</td>\n",
              "      <td>88.6</td>\n",
              "      <td>168.8</td>\n",
              "      <td>64.1</td>\n",
              "      <td>48.8</td>\n",
              "      <td>2548</td>\n",
              "      <td>dohc</td>\n",
              "      <td>four</td>\n",
              "      <td>130</td>\n",
              "      <td>mpfi</td>\n",
              "      <td>3.5</td>\n",
              "      <td>2.7</td>\n",
              "      <td>9.0</td>\n",
              "      <td>111</td>\n",
              "      <td>5000</td>\n",
              "      <td>21</td>\n",
              "      <td>27</td>\n",
              "      <td>16500.0</td>\n",
              "    </tr>\n",
              "    <tr>\n",
              "      <th>2</th>\n",
              "      <td>3</td>\n",
              "      <td>1</td>\n",
              "      <td>alfa-romero Quadrifoglio</td>\n",
              "      <td>gas</td>\n",
              "      <td>std</td>\n",
              "      <td>two</td>\n",
              "      <td>hatchback</td>\n",
              "      <td>rwd</td>\n",
              "      <td>front</td>\n",
              "      <td>94.5</td>\n",
              "      <td>171.2</td>\n",
              "      <td>65.5</td>\n",
              "      <td>52.4</td>\n",
              "      <td>2823</td>\n",
              "      <td>ohcv</td>\n",
              "      <td>six</td>\n",
              "      <td>152</td>\n",
              "      <td>mpfi</td>\n",
              "      <td>2.7</td>\n",
              "      <td>3.5</td>\n",
              "      <td>9.0</td>\n",
              "      <td>154</td>\n",
              "      <td>5000</td>\n",
              "      <td>19</td>\n",
              "      <td>26</td>\n",
              "      <td>16500.0</td>\n",
              "    </tr>\n",
              "    <tr>\n",
              "      <th>3</th>\n",
              "      <td>4</td>\n",
              "      <td>2</td>\n",
              "      <td>audi 100 ls</td>\n",
              "      <td>gas</td>\n",
              "      <td>std</td>\n",
              "      <td>four</td>\n",
              "      <td>sedan</td>\n",
              "      <td>fwd</td>\n",
              "      <td>front</td>\n",
              "      <td>99.8</td>\n",
              "      <td>176.6</td>\n",
              "      <td>66.2</td>\n",
              "      <td>54.3</td>\n",
              "      <td>2337</td>\n",
              "      <td>ohc</td>\n",
              "      <td>four</td>\n",
              "      <td>109</td>\n",
              "      <td>mpfi</td>\n",
              "      <td>3.2</td>\n",
              "      <td>3.4</td>\n",
              "      <td>10.0</td>\n",
              "      <td>102</td>\n",
              "      <td>5500</td>\n",
              "      <td>24</td>\n",
              "      <td>30</td>\n",
              "      <td>13950.0</td>\n",
              "    </tr>\n",
              "    <tr>\n",
              "      <th>4</th>\n",
              "      <td>5</td>\n",
              "      <td>2</td>\n",
              "      <td>audi 100ls</td>\n",
              "      <td>gas</td>\n",
              "      <td>std</td>\n",
              "      <td>four</td>\n",
              "      <td>sedan</td>\n",
              "      <td>4wd</td>\n",
              "      <td>front</td>\n",
              "      <td>99.4</td>\n",
              "      <td>176.6</td>\n",
              "      <td>66.4</td>\n",
              "      <td>54.3</td>\n",
              "      <td>2824</td>\n",
              "      <td>ohc</td>\n",
              "      <td>five</td>\n",
              "      <td>136</td>\n",
              "      <td>mpfi</td>\n",
              "      <td>3.2</td>\n",
              "      <td>3.4</td>\n",
              "      <td>8.0</td>\n",
              "      <td>115</td>\n",
              "      <td>5500</td>\n",
              "      <td>18</td>\n",
              "      <td>22</td>\n",
              "      <td>17450.0</td>\n",
              "    </tr>\n",
              "    <tr>\n",
              "      <th>5</th>\n",
              "      <td>6</td>\n",
              "      <td>2</td>\n",
              "      <td>audi fox</td>\n",
              "      <td>gas</td>\n",
              "      <td>std</td>\n",
              "      <td>two</td>\n",
              "      <td>sedan</td>\n",
              "      <td>fwd</td>\n",
              "      <td>front</td>\n",
              "      <td>99.8</td>\n",
              "      <td>177.3</td>\n",
              "      <td>66.3</td>\n",
              "      <td>53.1</td>\n",
              "      <td>2507</td>\n",
              "      <td>ohc</td>\n",
              "      <td>five</td>\n",
              "      <td>136</td>\n",
              "      <td>mpfi</td>\n",
              "      <td>3.2</td>\n",
              "      <td>3.4</td>\n",
              "      <td>8.5</td>\n",
              "      <td>110</td>\n",
              "      <td>5500</td>\n",
              "      <td>19</td>\n",
              "      <td>25</td>\n",
              "      <td>15250.0</td>\n",
              "    </tr>\n",
              "    <tr>\n",
              "      <th>6</th>\n",
              "      <td>7</td>\n",
              "      <td>1</td>\n",
              "      <td>audi 100ls</td>\n",
              "      <td>gas</td>\n",
              "      <td>std</td>\n",
              "      <td>four</td>\n",
              "      <td>sedan</td>\n",
              "      <td>fwd</td>\n",
              "      <td>front</td>\n",
              "      <td>105.8</td>\n",
              "      <td>192.7</td>\n",
              "      <td>71.4</td>\n",
              "      <td>55.7</td>\n",
              "      <td>2844</td>\n",
              "      <td>ohc</td>\n",
              "      <td>five</td>\n",
              "      <td>136</td>\n",
              "      <td>mpfi</td>\n",
              "      <td>3.2</td>\n",
              "      <td>3.4</td>\n",
              "      <td>8.5</td>\n",
              "      <td>110</td>\n",
              "      <td>5500</td>\n",
              "      <td>19</td>\n",
              "      <td>25</td>\n",
              "      <td>17710.0</td>\n",
              "    </tr>\n",
              "    <tr>\n",
              "      <th>7</th>\n",
              "      <td>8</td>\n",
              "      <td>1</td>\n",
              "      <td>audi 5000</td>\n",
              "      <td>gas</td>\n",
              "      <td>std</td>\n",
              "      <td>four</td>\n",
              "      <td>wagon</td>\n",
              "      <td>fwd</td>\n",
              "      <td>front</td>\n",
              "      <td>105.8</td>\n",
              "      <td>192.7</td>\n",
              "      <td>71.4</td>\n",
              "      <td>55.7</td>\n",
              "      <td>2954</td>\n",
              "      <td>ohc</td>\n",
              "      <td>five</td>\n",
              "      <td>136</td>\n",
              "      <td>mpfi</td>\n",
              "      <td>3.2</td>\n",
              "      <td>3.4</td>\n",
              "      <td>8.5</td>\n",
              "      <td>110</td>\n",
              "      <td>5500</td>\n",
              "      <td>19</td>\n",
              "      <td>25</td>\n",
              "      <td>18920.0</td>\n",
              "    </tr>\n",
              "    <tr>\n",
              "      <th>8</th>\n",
              "      <td>9</td>\n",
              "      <td>1</td>\n",
              "      <td>audi 4000</td>\n",
              "      <td>gas</td>\n",
              "      <td>turbo</td>\n",
              "      <td>four</td>\n",
              "      <td>sedan</td>\n",
              "      <td>fwd</td>\n",
              "      <td>front</td>\n",
              "      <td>105.8</td>\n",
              "      <td>192.7</td>\n",
              "      <td>71.4</td>\n",
              "      <td>55.9</td>\n",
              "      <td>3086</td>\n",
              "      <td>ohc</td>\n",
              "      <td>five</td>\n",
              "      <td>131</td>\n",
              "      <td>mpfi</td>\n",
              "      <td>3.1</td>\n",
              "      <td>3.4</td>\n",
              "      <td>8.3</td>\n",
              "      <td>140</td>\n",
              "      <td>5500</td>\n",
              "      <td>17</td>\n",
              "      <td>20</td>\n",
              "      <td>23875.0</td>\n",
              "    </tr>\n",
              "    <tr>\n",
              "      <th>9</th>\n",
              "      <td>10</td>\n",
              "      <td>0</td>\n",
              "      <td>audi 5000s (diesel)</td>\n",
              "      <td>gas</td>\n",
              "      <td>turbo</td>\n",
              "      <td>two</td>\n",
              "      <td>hatchback</td>\n",
              "      <td>4wd</td>\n",
              "      <td>front</td>\n",
              "      <td>99.5</td>\n",
              "      <td>178.2</td>\n",
              "      <td>67.9</td>\n",
              "      <td>52.0</td>\n",
              "      <td>3053</td>\n",
              "      <td>ohc</td>\n",
              "      <td>five</td>\n",
              "      <td>131</td>\n",
              "      <td>mpfi</td>\n",
              "      <td>3.1</td>\n",
              "      <td>3.4</td>\n",
              "      <td>7.0</td>\n",
              "      <td>160</td>\n",
              "      <td>5500</td>\n",
              "      <td>16</td>\n",
              "      <td>22</td>\n",
              "      <td>17859.2</td>\n",
              "    </tr>\n",
              "  </tbody>\n",
              "</table>\n",
              "</div>"
            ],
            "text/plain": [
              "   car_ID  symboling                   CarName  ... citympg highwaympg   price\n",
              "0       1          3        alfa-romero giulia  ...      21         27 13495.0\n",
              "1       2          3       alfa-romero stelvio  ...      21         27 16500.0\n",
              "2       3          1  alfa-romero Quadrifoglio  ...      19         26 16500.0\n",
              "3       4          2               audi 100 ls  ...      24         30 13950.0\n",
              "4       5          2                audi 100ls  ...      18         22 17450.0\n",
              "5       6          2                  audi fox  ...      19         25 15250.0\n",
              "6       7          1                audi 100ls  ...      19         25 17710.0\n",
              "7       8          1                 audi 5000  ...      19         25 18920.0\n",
              "8       9          1                 audi 4000  ...      17         20 23875.0\n",
              "9      10          0       audi 5000s (diesel)  ...      16         22 17859.2\n",
              "\n",
              "[10 rows x 26 columns]"
            ]
          },
          "metadata": {
            "tags": []
          },
          "execution_count": 50
        }
      ]
    },
    {
      "cell_type": "markdown",
      "metadata": {
        "id": "OoJ7MvDLJMsd"
      },
      "source": [
        "# Preliminary analysis"
      ]
    },
    {
      "cell_type": "code",
      "metadata": {
        "colab": {
          "base_uri": "https://localhost:8080/"
        },
        "id": "97CZfqUvIvcH",
        "outputId": "6f8a0ac8-69da-4b1f-a9db-2a60d0274cbd"
      },
      "source": [
        "Full_df.dtypes"
      ],
      "execution_count": 51,
      "outputs": [
        {
          "output_type": "execute_result",
          "data": {
            "text/plain": [
              "car_ID                int64\n",
              "symboling             int64\n",
              "CarName              object\n",
              "fueltype             object\n",
              "aspiration           object\n",
              "doornumber           object\n",
              "carbody              object\n",
              "drivewheel           object\n",
              "enginelocation       object\n",
              "wheelbase           float64\n",
              "carlength           float64\n",
              "carwidth            float64\n",
              "carheight           float64\n",
              "curbweight            int64\n",
              "enginetype           object\n",
              "cylindernumber       object\n",
              "enginesize            int64\n",
              "fuelsystem           object\n",
              "boreratio           float64\n",
              "stroke              float64\n",
              "compressionratio    float64\n",
              "horsepower            int64\n",
              "peakrpm               int64\n",
              "citympg               int64\n",
              "highwaympg            int64\n",
              "price               float64\n",
              "dtype: object"
            ]
          },
          "metadata": {
            "tags": []
          },
          "execution_count": 51
        }
      ]
    },
    {
      "cell_type": "code",
      "metadata": {
        "id": "KjyLrg9ZJwHL"
      },
      "source": [
        ""
      ],
      "execution_count": 51,
      "outputs": []
    },
    {
      "cell_type": "markdown",
      "metadata": {
        "id": "oKxNHEzNJtsM"
      },
      "source": [
        "# Features pre-processing - part 1"
      ]
    },
    {
      "cell_type": "code",
      "metadata": {
        "colab": {
          "base_uri": "https://localhost:8080/",
          "height": 292
        },
        "id": "mPZdbQPIml0d",
        "outputId": "816923bd-da99-474b-c1c0-f8899d7a5dde"
      },
      "source": [
        "#creating a 'CarBrand' variable\n",
        "\n",
        "car_name = list(Full_df['CarName'])\n",
        "#print(car_name)\n",
        "car_brand=[]\n",
        "\n",
        "\n",
        "for i in car_name:\n",
        "  tmp = i.split(' ')\n",
        "  car_brand.append(tmp[0])\n",
        "\n",
        "  #print(tmp) \n",
        "\n",
        "print(car_brand)\n",
        "\n",
        "Full_df['CarBrand']=car_brand\n",
        "Full_df.CarBrand.unique()\n",
        "Full_df.head()\n",
        "\n"
      ],
      "execution_count": 52,
      "outputs": [
        {
          "output_type": "stream",
          "text": [
            "['alfa-romero', 'alfa-romero', 'alfa-romero', 'audi', 'audi', 'audi', 'audi', 'audi', 'audi', 'audi', 'bmw', 'bmw', 'bmw', 'bmw', 'bmw', 'bmw', 'bmw', 'bmw', 'chevrolet', 'chevrolet', 'chevrolet', 'dodge', 'dodge', 'dodge', 'dodge', 'dodge', 'dodge', 'dodge', 'dodge', 'dodge', 'honda', 'honda', 'honda', 'honda', 'honda', 'honda', 'honda', 'honda', 'honda', 'honda', 'honda', 'honda', 'honda', 'isuzu', 'isuzu', 'isuzu', 'isuzu', 'jaguar', 'jaguar', 'jaguar', 'maxda', 'maxda', 'mazda', 'mazda', 'mazda', 'mazda', 'mazda', 'mazda', 'mazda', 'mazda', 'mazda', 'mazda', 'mazda', 'mazda', 'mazda', 'mazda', 'mazda', 'buick', 'buick', 'buick', 'buick', 'buick', 'buick', 'buick', 'buick', 'mercury', 'mitsubishi', 'mitsubishi', 'mitsubishi', 'mitsubishi', 'mitsubishi', 'mitsubishi', 'mitsubishi', 'mitsubishi', 'mitsubishi', 'mitsubishi', 'mitsubishi', 'mitsubishi', 'mitsubishi', 'Nissan', 'nissan', 'nissan', 'nissan', 'nissan', 'nissan', 'nissan', 'nissan', 'nissan', 'nissan', 'nissan', 'nissan', 'nissan', 'nissan', 'nissan', 'nissan', 'nissan', 'nissan', 'peugeot', 'peugeot', 'peugeot', 'peugeot', 'peugeot', 'peugeot', 'peugeot', 'peugeot', 'peugeot', 'peugeot', 'peugeot', 'plymouth', 'plymouth', 'plymouth', 'plymouth', 'plymouth', 'plymouth', 'plymouth', 'porsche', 'porcshce', 'porsche', 'porsche', 'porsche', 'renault', 'renault', 'saab', 'saab', 'saab', 'saab', 'saab', 'saab', 'subaru', 'subaru', 'subaru', 'subaru', 'subaru', 'subaru', 'subaru', 'subaru', 'subaru', 'subaru', 'subaru', 'subaru', 'toyota', 'toyota', 'toyota', 'toyota', 'toyota', 'toyota', 'toyota', 'toyota', 'toyota', 'toyota', 'toyota', 'toyota', 'toyota', 'toyota', 'toyota', 'toyota', 'toyota', 'toyota', 'toyota', 'toyota', 'toyota', 'toyota', 'toyota', 'toyota', 'toyota', 'toyota', 'toyota', 'toyota', 'toyota', 'toyota', 'toyota', 'toyouta', 'vokswagen', 'volkswagen', 'volkswagen', 'volkswagen', 'volkswagen', 'volkswagen', 'volkswagen', 'vw', 'vw', 'volkswagen', 'volkswagen', 'volkswagen', 'volvo', 'volvo', 'volvo', 'volvo', 'volvo', 'volvo', 'volvo', 'volvo', 'volvo', 'volvo', 'volvo']\n"
          ],
          "name": "stdout"
        },
        {
          "output_type": "execute_result",
          "data": {
            "text/html": [
              "<div>\n",
              "<style scoped>\n",
              "    .dataframe tbody tr th:only-of-type {\n",
              "        vertical-align: middle;\n",
              "    }\n",
              "\n",
              "    .dataframe tbody tr th {\n",
              "        vertical-align: top;\n",
              "    }\n",
              "\n",
              "    .dataframe thead th {\n",
              "        text-align: right;\n",
              "    }\n",
              "</style>\n",
              "<table border=\"1\" class=\"dataframe\">\n",
              "  <thead>\n",
              "    <tr style=\"text-align: right;\">\n",
              "      <th></th>\n",
              "      <th>car_ID</th>\n",
              "      <th>symboling</th>\n",
              "      <th>CarName</th>\n",
              "      <th>fueltype</th>\n",
              "      <th>aspiration</th>\n",
              "      <th>doornumber</th>\n",
              "      <th>carbody</th>\n",
              "      <th>drivewheel</th>\n",
              "      <th>enginelocation</th>\n",
              "      <th>wheelbase</th>\n",
              "      <th>carlength</th>\n",
              "      <th>carwidth</th>\n",
              "      <th>carheight</th>\n",
              "      <th>curbweight</th>\n",
              "      <th>enginetype</th>\n",
              "      <th>cylindernumber</th>\n",
              "      <th>enginesize</th>\n",
              "      <th>fuelsystem</th>\n",
              "      <th>boreratio</th>\n",
              "      <th>stroke</th>\n",
              "      <th>compressionratio</th>\n",
              "      <th>horsepower</th>\n",
              "      <th>peakrpm</th>\n",
              "      <th>citympg</th>\n",
              "      <th>highwaympg</th>\n",
              "      <th>price</th>\n",
              "      <th>CarBrand</th>\n",
              "    </tr>\n",
              "  </thead>\n",
              "  <tbody>\n",
              "    <tr>\n",
              "      <th>0</th>\n",
              "      <td>1</td>\n",
              "      <td>3</td>\n",
              "      <td>alfa-romero giulia</td>\n",
              "      <td>gas</td>\n",
              "      <td>std</td>\n",
              "      <td>two</td>\n",
              "      <td>convertible</td>\n",
              "      <td>rwd</td>\n",
              "      <td>front</td>\n",
              "      <td>88.6</td>\n",
              "      <td>168.8</td>\n",
              "      <td>64.1</td>\n",
              "      <td>48.8</td>\n",
              "      <td>2548</td>\n",
              "      <td>dohc</td>\n",
              "      <td>four</td>\n",
              "      <td>130</td>\n",
              "      <td>mpfi</td>\n",
              "      <td>3.5</td>\n",
              "      <td>2.7</td>\n",
              "      <td>9.0</td>\n",
              "      <td>111</td>\n",
              "      <td>5000</td>\n",
              "      <td>21</td>\n",
              "      <td>27</td>\n",
              "      <td>13495.0</td>\n",
              "      <td>alfa-romero</td>\n",
              "    </tr>\n",
              "    <tr>\n",
              "      <th>1</th>\n",
              "      <td>2</td>\n",
              "      <td>3</td>\n",
              "      <td>alfa-romero stelvio</td>\n",
              "      <td>gas</td>\n",
              "      <td>std</td>\n",
              "      <td>two</td>\n",
              "      <td>convertible</td>\n",
              "      <td>rwd</td>\n",
              "      <td>front</td>\n",
              "      <td>88.6</td>\n",
              "      <td>168.8</td>\n",
              "      <td>64.1</td>\n",
              "      <td>48.8</td>\n",
              "      <td>2548</td>\n",
              "      <td>dohc</td>\n",
              "      <td>four</td>\n",
              "      <td>130</td>\n",
              "      <td>mpfi</td>\n",
              "      <td>3.5</td>\n",
              "      <td>2.7</td>\n",
              "      <td>9.0</td>\n",
              "      <td>111</td>\n",
              "      <td>5000</td>\n",
              "      <td>21</td>\n",
              "      <td>27</td>\n",
              "      <td>16500.0</td>\n",
              "      <td>alfa-romero</td>\n",
              "    </tr>\n",
              "    <tr>\n",
              "      <th>2</th>\n",
              "      <td>3</td>\n",
              "      <td>1</td>\n",
              "      <td>alfa-romero Quadrifoglio</td>\n",
              "      <td>gas</td>\n",
              "      <td>std</td>\n",
              "      <td>two</td>\n",
              "      <td>hatchback</td>\n",
              "      <td>rwd</td>\n",
              "      <td>front</td>\n",
              "      <td>94.5</td>\n",
              "      <td>171.2</td>\n",
              "      <td>65.5</td>\n",
              "      <td>52.4</td>\n",
              "      <td>2823</td>\n",
              "      <td>ohcv</td>\n",
              "      <td>six</td>\n",
              "      <td>152</td>\n",
              "      <td>mpfi</td>\n",
              "      <td>2.7</td>\n",
              "      <td>3.5</td>\n",
              "      <td>9.0</td>\n",
              "      <td>154</td>\n",
              "      <td>5000</td>\n",
              "      <td>19</td>\n",
              "      <td>26</td>\n",
              "      <td>16500.0</td>\n",
              "      <td>alfa-romero</td>\n",
              "    </tr>\n",
              "    <tr>\n",
              "      <th>3</th>\n",
              "      <td>4</td>\n",
              "      <td>2</td>\n",
              "      <td>audi 100 ls</td>\n",
              "      <td>gas</td>\n",
              "      <td>std</td>\n",
              "      <td>four</td>\n",
              "      <td>sedan</td>\n",
              "      <td>fwd</td>\n",
              "      <td>front</td>\n",
              "      <td>99.8</td>\n",
              "      <td>176.6</td>\n",
              "      <td>66.2</td>\n",
              "      <td>54.3</td>\n",
              "      <td>2337</td>\n",
              "      <td>ohc</td>\n",
              "      <td>four</td>\n",
              "      <td>109</td>\n",
              "      <td>mpfi</td>\n",
              "      <td>3.2</td>\n",
              "      <td>3.4</td>\n",
              "      <td>10.0</td>\n",
              "      <td>102</td>\n",
              "      <td>5500</td>\n",
              "      <td>24</td>\n",
              "      <td>30</td>\n",
              "      <td>13950.0</td>\n",
              "      <td>audi</td>\n",
              "    </tr>\n",
              "    <tr>\n",
              "      <th>4</th>\n",
              "      <td>5</td>\n",
              "      <td>2</td>\n",
              "      <td>audi 100ls</td>\n",
              "      <td>gas</td>\n",
              "      <td>std</td>\n",
              "      <td>four</td>\n",
              "      <td>sedan</td>\n",
              "      <td>4wd</td>\n",
              "      <td>front</td>\n",
              "      <td>99.4</td>\n",
              "      <td>176.6</td>\n",
              "      <td>66.4</td>\n",
              "      <td>54.3</td>\n",
              "      <td>2824</td>\n",
              "      <td>ohc</td>\n",
              "      <td>five</td>\n",
              "      <td>136</td>\n",
              "      <td>mpfi</td>\n",
              "      <td>3.2</td>\n",
              "      <td>3.4</td>\n",
              "      <td>8.0</td>\n",
              "      <td>115</td>\n",
              "      <td>5500</td>\n",
              "      <td>18</td>\n",
              "      <td>22</td>\n",
              "      <td>17450.0</td>\n",
              "      <td>audi</td>\n",
              "    </tr>\n",
              "  </tbody>\n",
              "</table>\n",
              "</div>"
            ],
            "text/plain": [
              "   car_ID  symboling                   CarName  ... highwaympg   price     CarBrand\n",
              "0       1          3        alfa-romero giulia  ...         27 13495.0  alfa-romero\n",
              "1       2          3       alfa-romero stelvio  ...         27 16500.0  alfa-romero\n",
              "2       3          1  alfa-romero Quadrifoglio  ...         26 16500.0  alfa-romero\n",
              "3       4          2               audi 100 ls  ...         30 13950.0         audi\n",
              "4       5          2                audi 100ls  ...         22 17450.0         audi\n",
              "\n",
              "[5 rows x 27 columns]"
            ]
          },
          "metadata": {
            "tags": []
          },
          "execution_count": 52
        }
      ]
    },
    {
      "cell_type": "code",
      "metadata": {
        "colab": {
          "base_uri": "https://localhost:8080/"
        },
        "id": "2eKfFEVRpfls",
        "outputId": "8e864d47-2339-4d0b-ec0c-bc53b77819e6"
      },
      "source": [
        "Full_df['CarBrand'].unique()"
      ],
      "execution_count": 53,
      "outputs": [
        {
          "output_type": "execute_result",
          "data": {
            "text/plain": [
              "array(['alfa-romero', 'audi', 'bmw', 'chevrolet', 'dodge', 'honda',\n",
              "       'isuzu', 'jaguar', 'maxda', 'mazda', 'buick', 'mercury',\n",
              "       'mitsubishi', 'Nissan', 'nissan', 'peugeot', 'plymouth', 'porsche',\n",
              "       'porcshce', 'renault', 'saab', 'subaru', 'toyota', 'toyouta',\n",
              "       'vokswagen', 'volkswagen', 'vw', 'volvo'], dtype=object)"
            ]
          },
          "metadata": {
            "tags": []
          },
          "execution_count": 53
        }
      ]
    },
    {
      "cell_type": "code",
      "metadata": {
        "colab": {
          "base_uri": "https://localhost:8080/"
        },
        "id": "jYCAOzwspsDe",
        "outputId": "eb615649-78f1-4978-dffc-a5deee5bdbb8"
      },
      "source": [
        "## Fix mistakes in CarBrand:\n",
        "\n",
        "mapping={'alfa-romero':'alfa-romeo', 'maxda':'mazda', 'Nissan':'nissan', 'porcshce':'porsche', 'toyouta': 'toyota', 'vokswagen':'volkswagen', 'vw': 'volkswagen'}\n",
        "Full_df['CarBrand'] = Full_df['CarBrand'].replace(mapping)\n",
        "\n",
        "Full_df['CarBrand'].unique()"
      ],
      "execution_count": 54,
      "outputs": [
        {
          "output_type": "execute_result",
          "data": {
            "text/plain": [
              "array(['alfa-romeo', 'audi', 'bmw', 'chevrolet', 'dodge', 'honda',\n",
              "       'isuzu', 'jaguar', 'mazda', 'buick', 'mercury', 'mitsubishi',\n",
              "       'nissan', 'peugeot', 'plymouth', 'porsche', 'renault', 'saab',\n",
              "       'subaru', 'toyota', 'volkswagen', 'volvo'], dtype=object)"
            ]
          },
          "metadata": {
            "tags": []
          },
          "execution_count": 54
        }
      ]
    },
    {
      "cell_type": "markdown",
      "metadata": {
        "id": "ioA1sDovYuUl"
      },
      "source": [
        "# EDA"
      ]
    },
    {
      "cell_type": "code",
      "metadata": {
        "colab": {
          "base_uri": "https://localhost:8080/",
          "height": 275
        },
        "id": "H-MDGUeGZIPs",
        "outputId": "db8cc0c9-a9c1-40ab-8452-01b49ac6c955"
      },
      "source": [
        "Full_df.head(5)"
      ],
      "execution_count": 55,
      "outputs": [
        {
          "output_type": "execute_result",
          "data": {
            "text/html": [
              "<div>\n",
              "<style scoped>\n",
              "    .dataframe tbody tr th:only-of-type {\n",
              "        vertical-align: middle;\n",
              "    }\n",
              "\n",
              "    .dataframe tbody tr th {\n",
              "        vertical-align: top;\n",
              "    }\n",
              "\n",
              "    .dataframe thead th {\n",
              "        text-align: right;\n",
              "    }\n",
              "</style>\n",
              "<table border=\"1\" class=\"dataframe\">\n",
              "  <thead>\n",
              "    <tr style=\"text-align: right;\">\n",
              "      <th></th>\n",
              "      <th>car_ID</th>\n",
              "      <th>symboling</th>\n",
              "      <th>CarName</th>\n",
              "      <th>fueltype</th>\n",
              "      <th>aspiration</th>\n",
              "      <th>doornumber</th>\n",
              "      <th>carbody</th>\n",
              "      <th>drivewheel</th>\n",
              "      <th>enginelocation</th>\n",
              "      <th>wheelbase</th>\n",
              "      <th>carlength</th>\n",
              "      <th>carwidth</th>\n",
              "      <th>carheight</th>\n",
              "      <th>curbweight</th>\n",
              "      <th>enginetype</th>\n",
              "      <th>cylindernumber</th>\n",
              "      <th>enginesize</th>\n",
              "      <th>fuelsystem</th>\n",
              "      <th>boreratio</th>\n",
              "      <th>stroke</th>\n",
              "      <th>compressionratio</th>\n",
              "      <th>horsepower</th>\n",
              "      <th>peakrpm</th>\n",
              "      <th>citympg</th>\n",
              "      <th>highwaympg</th>\n",
              "      <th>price</th>\n",
              "      <th>CarBrand</th>\n",
              "    </tr>\n",
              "  </thead>\n",
              "  <tbody>\n",
              "    <tr>\n",
              "      <th>0</th>\n",
              "      <td>1</td>\n",
              "      <td>3</td>\n",
              "      <td>alfa-romero giulia</td>\n",
              "      <td>gas</td>\n",
              "      <td>std</td>\n",
              "      <td>two</td>\n",
              "      <td>convertible</td>\n",
              "      <td>rwd</td>\n",
              "      <td>front</td>\n",
              "      <td>88.6</td>\n",
              "      <td>168.8</td>\n",
              "      <td>64.1</td>\n",
              "      <td>48.8</td>\n",
              "      <td>2548</td>\n",
              "      <td>dohc</td>\n",
              "      <td>four</td>\n",
              "      <td>130</td>\n",
              "      <td>mpfi</td>\n",
              "      <td>3.5</td>\n",
              "      <td>2.7</td>\n",
              "      <td>9.0</td>\n",
              "      <td>111</td>\n",
              "      <td>5000</td>\n",
              "      <td>21</td>\n",
              "      <td>27</td>\n",
              "      <td>13495.0</td>\n",
              "      <td>alfa-romeo</td>\n",
              "    </tr>\n",
              "    <tr>\n",
              "      <th>1</th>\n",
              "      <td>2</td>\n",
              "      <td>3</td>\n",
              "      <td>alfa-romero stelvio</td>\n",
              "      <td>gas</td>\n",
              "      <td>std</td>\n",
              "      <td>two</td>\n",
              "      <td>convertible</td>\n",
              "      <td>rwd</td>\n",
              "      <td>front</td>\n",
              "      <td>88.6</td>\n",
              "      <td>168.8</td>\n",
              "      <td>64.1</td>\n",
              "      <td>48.8</td>\n",
              "      <td>2548</td>\n",
              "      <td>dohc</td>\n",
              "      <td>four</td>\n",
              "      <td>130</td>\n",
              "      <td>mpfi</td>\n",
              "      <td>3.5</td>\n",
              "      <td>2.7</td>\n",
              "      <td>9.0</td>\n",
              "      <td>111</td>\n",
              "      <td>5000</td>\n",
              "      <td>21</td>\n",
              "      <td>27</td>\n",
              "      <td>16500.0</td>\n",
              "      <td>alfa-romeo</td>\n",
              "    </tr>\n",
              "    <tr>\n",
              "      <th>2</th>\n",
              "      <td>3</td>\n",
              "      <td>1</td>\n",
              "      <td>alfa-romero Quadrifoglio</td>\n",
              "      <td>gas</td>\n",
              "      <td>std</td>\n",
              "      <td>two</td>\n",
              "      <td>hatchback</td>\n",
              "      <td>rwd</td>\n",
              "      <td>front</td>\n",
              "      <td>94.5</td>\n",
              "      <td>171.2</td>\n",
              "      <td>65.5</td>\n",
              "      <td>52.4</td>\n",
              "      <td>2823</td>\n",
              "      <td>ohcv</td>\n",
              "      <td>six</td>\n",
              "      <td>152</td>\n",
              "      <td>mpfi</td>\n",
              "      <td>2.7</td>\n",
              "      <td>3.5</td>\n",
              "      <td>9.0</td>\n",
              "      <td>154</td>\n",
              "      <td>5000</td>\n",
              "      <td>19</td>\n",
              "      <td>26</td>\n",
              "      <td>16500.0</td>\n",
              "      <td>alfa-romeo</td>\n",
              "    </tr>\n",
              "    <tr>\n",
              "      <th>3</th>\n",
              "      <td>4</td>\n",
              "      <td>2</td>\n",
              "      <td>audi 100 ls</td>\n",
              "      <td>gas</td>\n",
              "      <td>std</td>\n",
              "      <td>four</td>\n",
              "      <td>sedan</td>\n",
              "      <td>fwd</td>\n",
              "      <td>front</td>\n",
              "      <td>99.8</td>\n",
              "      <td>176.6</td>\n",
              "      <td>66.2</td>\n",
              "      <td>54.3</td>\n",
              "      <td>2337</td>\n",
              "      <td>ohc</td>\n",
              "      <td>four</td>\n",
              "      <td>109</td>\n",
              "      <td>mpfi</td>\n",
              "      <td>3.2</td>\n",
              "      <td>3.4</td>\n",
              "      <td>10.0</td>\n",
              "      <td>102</td>\n",
              "      <td>5500</td>\n",
              "      <td>24</td>\n",
              "      <td>30</td>\n",
              "      <td>13950.0</td>\n",
              "      <td>audi</td>\n",
              "    </tr>\n",
              "    <tr>\n",
              "      <th>4</th>\n",
              "      <td>5</td>\n",
              "      <td>2</td>\n",
              "      <td>audi 100ls</td>\n",
              "      <td>gas</td>\n",
              "      <td>std</td>\n",
              "      <td>four</td>\n",
              "      <td>sedan</td>\n",
              "      <td>4wd</td>\n",
              "      <td>front</td>\n",
              "      <td>99.4</td>\n",
              "      <td>176.6</td>\n",
              "      <td>66.4</td>\n",
              "      <td>54.3</td>\n",
              "      <td>2824</td>\n",
              "      <td>ohc</td>\n",
              "      <td>five</td>\n",
              "      <td>136</td>\n",
              "      <td>mpfi</td>\n",
              "      <td>3.2</td>\n",
              "      <td>3.4</td>\n",
              "      <td>8.0</td>\n",
              "      <td>115</td>\n",
              "      <td>5500</td>\n",
              "      <td>18</td>\n",
              "      <td>22</td>\n",
              "      <td>17450.0</td>\n",
              "      <td>audi</td>\n",
              "    </tr>\n",
              "  </tbody>\n",
              "</table>\n",
              "</div>"
            ],
            "text/plain": [
              "   car_ID  symboling                   CarName  ... highwaympg   price    CarBrand\n",
              "0       1          3        alfa-romero giulia  ...         27 13495.0  alfa-romeo\n",
              "1       2          3       alfa-romero stelvio  ...         27 16500.0  alfa-romeo\n",
              "2       3          1  alfa-romero Quadrifoglio  ...         26 16500.0  alfa-romeo\n",
              "3       4          2               audi 100 ls  ...         30 13950.0        audi\n",
              "4       5          2                audi 100ls  ...         22 17450.0        audi\n",
              "\n",
              "[5 rows x 27 columns]"
            ]
          },
          "metadata": {
            "tags": []
          },
          "execution_count": 55
        }
      ]
    },
    {
      "cell_type": "code",
      "metadata": {
        "colab": {
          "base_uri": "https://localhost:8080/",
          "height": 317
        },
        "id": "2PiOWnOltcKS",
        "outputId": "072ac041-a3b8-4a38-e061-855fa82a9b34"
      },
      "source": [
        "Full_df.describe()"
      ],
      "execution_count": 56,
      "outputs": [
        {
          "output_type": "execute_result",
          "data": {
            "text/html": [
              "<div>\n",
              "<style scoped>\n",
              "    .dataframe tbody tr th:only-of-type {\n",
              "        vertical-align: middle;\n",
              "    }\n",
              "\n",
              "    .dataframe tbody tr th {\n",
              "        vertical-align: top;\n",
              "    }\n",
              "\n",
              "    .dataframe thead th {\n",
              "        text-align: right;\n",
              "    }\n",
              "</style>\n",
              "<table border=\"1\" class=\"dataframe\">\n",
              "  <thead>\n",
              "    <tr style=\"text-align: right;\">\n",
              "      <th></th>\n",
              "      <th>car_ID</th>\n",
              "      <th>symboling</th>\n",
              "      <th>wheelbase</th>\n",
              "      <th>carlength</th>\n",
              "      <th>carwidth</th>\n",
              "      <th>carheight</th>\n",
              "      <th>curbweight</th>\n",
              "      <th>enginesize</th>\n",
              "      <th>boreratio</th>\n",
              "      <th>stroke</th>\n",
              "      <th>compressionratio</th>\n",
              "      <th>horsepower</th>\n",
              "      <th>peakrpm</th>\n",
              "      <th>citympg</th>\n",
              "      <th>highwaympg</th>\n",
              "      <th>price</th>\n",
              "    </tr>\n",
              "  </thead>\n",
              "  <tbody>\n",
              "    <tr>\n",
              "      <th>count</th>\n",
              "      <td>205.0</td>\n",
              "      <td>205.0</td>\n",
              "      <td>205.0</td>\n",
              "      <td>205.0</td>\n",
              "      <td>205.0</td>\n",
              "      <td>205.0</td>\n",
              "      <td>205.0</td>\n",
              "      <td>205.0</td>\n",
              "      <td>205.0</td>\n",
              "      <td>205.0</td>\n",
              "      <td>205.0</td>\n",
              "      <td>205.0</td>\n",
              "      <td>205.0</td>\n",
              "      <td>205.0</td>\n",
              "      <td>205.0</td>\n",
              "      <td>205.0</td>\n",
              "    </tr>\n",
              "    <tr>\n",
              "      <th>mean</th>\n",
              "      <td>103.0</td>\n",
              "      <td>0.8</td>\n",
              "      <td>98.8</td>\n",
              "      <td>174.0</td>\n",
              "      <td>65.9</td>\n",
              "      <td>53.7</td>\n",
              "      <td>2555.6</td>\n",
              "      <td>126.9</td>\n",
              "      <td>3.3</td>\n",
              "      <td>3.3</td>\n",
              "      <td>10.1</td>\n",
              "      <td>104.1</td>\n",
              "      <td>5125.1</td>\n",
              "      <td>25.2</td>\n",
              "      <td>30.8</td>\n",
              "      <td>13276.7</td>\n",
              "    </tr>\n",
              "    <tr>\n",
              "      <th>std</th>\n",
              "      <td>59.3</td>\n",
              "      <td>1.2</td>\n",
              "      <td>6.0</td>\n",
              "      <td>12.3</td>\n",
              "      <td>2.1</td>\n",
              "      <td>2.4</td>\n",
              "      <td>520.7</td>\n",
              "      <td>41.6</td>\n",
              "      <td>0.3</td>\n",
              "      <td>0.3</td>\n",
              "      <td>4.0</td>\n",
              "      <td>39.5</td>\n",
              "      <td>477.0</td>\n",
              "      <td>6.5</td>\n",
              "      <td>6.9</td>\n",
              "      <td>7988.9</td>\n",
              "    </tr>\n",
              "    <tr>\n",
              "      <th>min</th>\n",
              "      <td>1.0</td>\n",
              "      <td>-2.0</td>\n",
              "      <td>86.6</td>\n",
              "      <td>141.1</td>\n",
              "      <td>60.3</td>\n",
              "      <td>47.8</td>\n",
              "      <td>1488.0</td>\n",
              "      <td>61.0</td>\n",
              "      <td>2.5</td>\n",
              "      <td>2.1</td>\n",
              "      <td>7.0</td>\n",
              "      <td>48.0</td>\n",
              "      <td>4150.0</td>\n",
              "      <td>13.0</td>\n",
              "      <td>16.0</td>\n",
              "      <td>5118.0</td>\n",
              "    </tr>\n",
              "    <tr>\n",
              "      <th>25%</th>\n",
              "      <td>52.0</td>\n",
              "      <td>0.0</td>\n",
              "      <td>94.5</td>\n",
              "      <td>166.3</td>\n",
              "      <td>64.1</td>\n",
              "      <td>52.0</td>\n",
              "      <td>2145.0</td>\n",
              "      <td>97.0</td>\n",
              "      <td>3.1</td>\n",
              "      <td>3.1</td>\n",
              "      <td>8.6</td>\n",
              "      <td>70.0</td>\n",
              "      <td>4800.0</td>\n",
              "      <td>19.0</td>\n",
              "      <td>25.0</td>\n",
              "      <td>7788.0</td>\n",
              "    </tr>\n",
              "    <tr>\n",
              "      <th>50%</th>\n",
              "      <td>103.0</td>\n",
              "      <td>1.0</td>\n",
              "      <td>97.0</td>\n",
              "      <td>173.2</td>\n",
              "      <td>65.5</td>\n",
              "      <td>54.1</td>\n",
              "      <td>2414.0</td>\n",
              "      <td>120.0</td>\n",
              "      <td>3.3</td>\n",
              "      <td>3.3</td>\n",
              "      <td>9.0</td>\n",
              "      <td>95.0</td>\n",
              "      <td>5200.0</td>\n",
              "      <td>24.0</td>\n",
              "      <td>30.0</td>\n",
              "      <td>10295.0</td>\n",
              "    </tr>\n",
              "    <tr>\n",
              "      <th>75%</th>\n",
              "      <td>154.0</td>\n",
              "      <td>2.0</td>\n",
              "      <td>102.4</td>\n",
              "      <td>183.1</td>\n",
              "      <td>66.9</td>\n",
              "      <td>55.5</td>\n",
              "      <td>2935.0</td>\n",
              "      <td>141.0</td>\n",
              "      <td>3.6</td>\n",
              "      <td>3.4</td>\n",
              "      <td>9.4</td>\n",
              "      <td>116.0</td>\n",
              "      <td>5500.0</td>\n",
              "      <td>30.0</td>\n",
              "      <td>34.0</td>\n",
              "      <td>16503.0</td>\n",
              "    </tr>\n",
              "    <tr>\n",
              "      <th>max</th>\n",
              "      <td>205.0</td>\n",
              "      <td>3.0</td>\n",
              "      <td>120.9</td>\n",
              "      <td>208.1</td>\n",
              "      <td>72.3</td>\n",
              "      <td>59.8</td>\n",
              "      <td>4066.0</td>\n",
              "      <td>326.0</td>\n",
              "      <td>3.9</td>\n",
              "      <td>4.2</td>\n",
              "      <td>23.0</td>\n",
              "      <td>288.0</td>\n",
              "      <td>6600.0</td>\n",
              "      <td>49.0</td>\n",
              "      <td>54.0</td>\n",
              "      <td>45400.0</td>\n",
              "    </tr>\n",
              "  </tbody>\n",
              "</table>\n",
              "</div>"
            ],
            "text/plain": [
              "       car_ID  symboling  wheelbase  ...  citympg  highwaympg   price\n",
              "count   205.0      205.0      205.0  ...    205.0       205.0   205.0\n",
              "mean    103.0        0.8       98.8  ...     25.2        30.8 13276.7\n",
              "std      59.3        1.2        6.0  ...      6.5         6.9  7988.9\n",
              "min       1.0       -2.0       86.6  ...     13.0        16.0  5118.0\n",
              "25%      52.0        0.0       94.5  ...     19.0        25.0  7788.0\n",
              "50%     103.0        1.0       97.0  ...     24.0        30.0 10295.0\n",
              "75%     154.0        2.0      102.4  ...     30.0        34.0 16503.0\n",
              "max     205.0        3.0      120.9  ...     49.0        54.0 45400.0\n",
              "\n",
              "[8 rows x 16 columns]"
            ]
          },
          "metadata": {
            "tags": []
          },
          "execution_count": 56
        }
      ]
    },
    {
      "cell_type": "markdown",
      "metadata": {
        "id": "hCxn4c4cttg5"
      },
      "source": [
        "**Numerical variables:** \n",
        "- Car ID - drop\n",
        "- Symboling - drop\n",
        "- Wheelbase: bucket\n",
        "- Carlength, carwidth, carheight: maybe bundle into Carvolume? or just lenght and width\n",
        "- curbweight: no idea\n",
        "- enginesize  -GOOD\n",
        "- boreratio: bucket\n",
        "- stroke: maybe a partial duplicate of bore ratio?\n",
        "- compression ratio- no idea\n",
        "- horsepower\n",
        "- peak RPM - good\n",
        "- city, highway mpg - good, maybe average *them*\n",
        "\n",
        "\n",
        "- All non-dropped: normalize\n",
        "\n",
        "\n",
        "**Categorical variables**\n",
        "\n",
        "- Carname - 1 hot\n",
        "- Fueltype - code, drop\n",
        "- Aspiration- code\n",
        "- Carbody- 1-hot\n",
        "- Doornumber- code\n",
        "- Drivewheel - code\n",
        "- Engine location- code\n",
        "- Engine type- code\n",
        "- Cylindernumber - code\n",
        "- Carbrand - 1hot"
      ]
    },
    {
      "cell_type": "code",
      "metadata": {
        "colab": {
          "base_uri": "https://localhost:8080/"
        },
        "id": "rnp3V5ORVVue",
        "outputId": "62e0c513-abe1-490b-e1f8-219d9d844694"
      },
      "source": [
        "##Code the Fueltype feature\n",
        "Full_df['fueltype'] =Full_df['fueltype'].astype('category').cat.codes\n",
        "Full_df['fueltype'].unique()\n",
        "\n"
      ],
      "execution_count": 57,
      "outputs": [
        {
          "output_type": "execute_result",
          "data": {
            "text/plain": [
              "array([1, 0], dtype=int8)"
            ]
          },
          "metadata": {
            "tags": []
          },
          "execution_count": 57
        }
      ]
    },
    {
      "cell_type": "code",
      "metadata": {
        "colab": {
          "base_uri": "https://localhost:8080/"
        },
        "id": "7eRwQohpV9u0",
        "outputId": "db7dc8ae-35ad-4a7f-afe5-5b0bc75e649e"
      },
      "source": [
        "##Code the drivewheel feature\n",
        "#Full_df['drivewheel'].unique()\n",
        "Full_df['drivewheel'] =Full_df['drivewheel'].astype('category').cat.codes\n",
        "Full_df['drivewheel'].unique()"
      ],
      "execution_count": 58,
      "outputs": [
        {
          "output_type": "execute_result",
          "data": {
            "text/plain": [
              "array([2, 1, 0], dtype=int8)"
            ]
          },
          "metadata": {
            "tags": []
          },
          "execution_count": 58
        }
      ]
    },
    {
      "cell_type": "code",
      "metadata": {
        "id": "ZbEW0BGFyjrg"
      },
      "source": [
        "#Creating car size:\n",
        "\n",
        "carsize=Full_df['carlength']*Full_df['carwidth']\n",
        "Full_df['carsize']=carsize\n",
        "\n",
        "#Full_df.head()\n",
        "\n"
      ],
      "execution_count": 59,
      "outputs": []
    },
    {
      "cell_type": "code",
      "metadata": {
        "colab": {
          "base_uri": "https://localhost:8080/"
        },
        "id": "_OZhhgzBv2tz",
        "outputId": "8de26f01-058e-4b08-cf9a-93e9090d6744"
      },
      "source": [
        "#check for duplicates\n",
        "\n",
        "duplicates = Full_df.duplicated(keep = False)\n",
        "print(duplicates)\n"
      ],
      "execution_count": 60,
      "outputs": [
        {
          "output_type": "stream",
          "text": [
            "0      False\n",
            "1      False\n",
            "2      False\n",
            "3      False\n",
            "4      False\n",
            "       ...  \n",
            "200    False\n",
            "201    False\n",
            "202    False\n",
            "203    False\n",
            "204    False\n",
            "Length: 205, dtype: bool\n"
          ],
          "name": "stdout"
        }
      ]
    },
    {
      "cell_type": "markdown",
      "metadata": {
        "id": "vXGkHC03vcEG"
      },
      "source": [
        "- Explore a few interesting variables by checking distribution\n"
      ]
    },
    {
      "cell_type": "code",
      "metadata": {
        "id": "Axl2uaaqocAl"
      },
      "source": [
        "import matplotlib.pyplot as plt\n",
        "import seaborn as sns\n",
        "sns.set()\n",
        "\n"
      ],
      "execution_count": 61,
      "outputs": []
    },
    {
      "cell_type": "code",
      "metadata": {
        "colab": {
          "base_uri": "https://localhost:8080/",
          "height": 285
        },
        "id": "sV_GkPKnyXGi",
        "outputId": "3d9d71dd-023b-40a5-c0f1-77f05b2aad98"
      },
      "source": [
        "#exploring carsize\n",
        "plt.hist(Full_df['carsize'].dropna(), bins=30)\n",
        "\n",
        "plt.xlabel('Size of the car')\n",
        "plt.ylabel('number of occurrences')\n",
        "plt.show()"
      ],
      "execution_count": 62,
      "outputs": [
        {
          "output_type": "display_data",
          "data": {
            "image/png": "[encoded data removed]",
            "text/plain": [
              "<Figure size 432x288 with 1 Axes>"
            ]
          },
          "metadata": {
            "tags": []
          }
        }
      ]
    },
    {
      "cell_type": "code",
      "metadata": {
        "colab": {
          "base_uri": "https://localhost:8080/",
          "height": 340
        },
        "id": "jSuRgR_PPMum",
        "outputId": "1c06122a-ee6f-41a0-fdad-3b957fd6ec02"
      },
      "source": [
        "#exploring Carbrand\n",
        "\n",
        "#plt.hist(Full_df['CarBrand'].dropna())\n",
        "\n",
        "Full_df['CarBrand'].value_counts().plot(kind='bar')"
      ],
      "execution_count": 63,
      "outputs": [
        {
          "output_type": "execute_result",
          "data": {
            "text/plain": [
              "<matplotlib.axes._subplots.AxesSubplot at 0x7f9d60589b50>"
            ]
          },
          "metadata": {
            "tags": []
          },
          "execution_count": 63
        },
        {
          "output_type": "display_data",
          "data": {
            "image/png": "[encoded data removed]",
            "text/plain": [
              "<Figure size 432x288 with 1 Axes>"
            ]
          },
          "metadata": {
            "tags": []
          }
        }
      ]
    },
    {
      "cell_type": "code",
      "metadata": {
        "colab": {
          "base_uri": "https://localhost:8080/",
          "height": 611
        },
        "id": "Ra2mrEWQR7QM",
        "outputId": "7ea2263f-c6df-4e75-fc3f-95c72bf85a58"
      },
      "source": [
        "#exploring the 2 variables together\n",
        "\n",
        "_ = sns.swarmplot(x='CarBrand', y='carsize', data=Full_df)\n",
        "_ = plt.xlabel('brand')\n",
        "_ = plt.ylabel('size')\n",
        "plt.show()"
      ],
      "execution_count": 64,
      "outputs": [
        {
          "output_type": "stream",
          "text": [
            "/usr/local/lib/python3.7/dist-packages/seaborn/categorical.py:1296: UserWarning: 12.5% of the points cannot be placed; you may want to decrease the size of the markers or use stripplot.\n",
            "  warnings.warn(msg, UserWarning)\n",
            "/usr/local/lib/python3.7/dist-packages/seaborn/categorical.py:1296: UserWarning: 44.4% of the points cannot be placed; you may want to decrease the size of the markers or use stripplot.\n",
            "  warnings.warn(msg, UserWarning)\n",
            "/usr/local/lib/python3.7/dist-packages/seaborn/categorical.py:1296: UserWarning: 23.5% of the points cannot be placed; you may want to decrease the size of the markers or use stripplot.\n",
            "  warnings.warn(msg, UserWarning)\n",
            "/usr/local/lib/python3.7/dist-packages/seaborn/categorical.py:1296: UserWarning: 30.8% of the points cannot be placed; you may want to decrease the size of the markers or use stripplot.\n",
            "  warnings.warn(msg, UserWarning)\n",
            "/usr/local/lib/python3.7/dist-packages/seaborn/categorical.py:1296: UserWarning: 22.2% of the points cannot be placed; you may want to decrease the size of the markers or use stripplot.\n",
            "  warnings.warn(msg, UserWarning)\n",
            "/usr/local/lib/python3.7/dist-packages/seaborn/categorical.py:1296: UserWarning: 45.5% of the points cannot be placed; you may want to decrease the size of the markers or use stripplot.\n",
            "  warnings.warn(msg, UserWarning)\n",
            "/usr/local/lib/python3.7/dist-packages/seaborn/categorical.py:1296: UserWarning: 50.0% of the points cannot be placed; you may want to decrease the size of the markers or use stripplot.\n",
            "  warnings.warn(msg, UserWarning)\n",
            "/usr/local/lib/python3.7/dist-packages/seaborn/categorical.py:1296: UserWarning: 62.5% of the points cannot be placed; you may want to decrease the size of the markers or use stripplot.\n",
            "  warnings.warn(msg, UserWarning)\n",
            "/usr/local/lib/python3.7/dist-packages/seaborn/categorical.py:1296: UserWarning: 33.3% of the points cannot be placed; you may want to decrease the size of the markers or use stripplot.\n",
            "  warnings.warn(msg, UserWarning)\n"
          ],
          "name": "stderr"
        },
        {
          "output_type": "display_data",
          "data": {
            "image/png": "[encoded data removed]",
            "text/plain": [
              "<Figure size 432x288 with 1 Axes>"
            ]
          },
          "metadata": {
            "tags": []
          }
        }
      ]
    },
    {
      "cell_type": "markdown",
      "metadata": {
        "id": "skMxi-EPbBhs"
      },
      "source": [
        "**ECDF of 2 variables**"
      ]
    },
    {
      "cell_type": "code",
      "metadata": {
        "id": "l-8kJ0wnbAdD"
      },
      "source": [
        "def ecdf(data):\n",
        "    \"\"\"Compute ECDF for a one-dimensional array of measurements.\"\"\"\n",
        "    # Number of data points: n\n",
        "    n = len(data)\n",
        "\n",
        "    # x-data for the ECDF: x\n",
        "    x = np.sort(data)\n",
        "\n",
        "    # y-data for the ECDF: y\n",
        "    y = np.arange(1, n+1) / n\n",
        "\n",
        "    return x, y"
      ],
      "execution_count": 65,
      "outputs": []
    },
    {
      "cell_type": "code",
      "metadata": {
        "colab": {
          "base_uri": "https://localhost:8080/",
          "height": 285
        },
        "id": "R0Yn0ZfGbnaj",
        "outputId": "869e6ad6-0308-4b2a-e3eb-fae2ae98814f"
      },
      "source": [
        "data=Full_df['carsize']\n",
        "x,y= ecdf(data)\n",
        "\n",
        "# Generate plot\n",
        "_ = plt.plot(x, y, marker='.', linestyle='none')\n",
        "\n",
        "# Label the axes\n",
        "_ = plt.xlabel('Car size')\n",
        "_ = plt.ylabel('ECDF')\n",
        "\n",
        "# Display the plot\n",
        "plt.show()"
      ],
      "execution_count": 66,
      "outputs": [
        {
          "output_type": "display_data",
          "data": {
            "image/png": "[encoded data removed]",
            "text/plain": [
              "<Figure size 432x288 with 1 Axes>"
            ]
          },
          "metadata": {
            "tags": []
          }
        }
      ]
    },
    {
      "cell_type": "markdown",
      "metadata": {
        "id": "DA3pdmJ_1DOK"
      },
      "source": [
        "Let's look for correlations"
      ]
    },
    {
      "cell_type": "code",
      "metadata": {
        "colab": {
          "base_uri": "https://localhost:8080/",
          "height": 285
        },
        "id": "qx6TlAO81CYT",
        "outputId": "358ef50e-bd1e-4c7e-b16c-e348306a7206"
      },
      "source": [
        "# Extract age and weight\n",
        "carsize = Full_df['carsize']\n",
        "price = Full_df['price']\n",
        " \n",
        "# Add jittering to size\n",
        "#carsize = Full_df['carsize'] + np.random.normal(0, 2.5, size=len(Full_df))\n",
        " \n",
        "# Make a scatter plot\n",
        "plt.plot(carsize, price, 'o', alpha=0.1)\n",
        " \n",
        "plt.xlabel('car size')\n",
        "plt.ylabel('car price')\n",
        " \n",
        "plt.show()"
      ],
      "execution_count": 67,
      "outputs": [
        {
          "output_type": "display_data",
          "data": {
            "image/png": "[encoded data removed]",
            "text/plain": [
              "<Figure size 432x288 with 1 Axes>"
            ]
          },
          "metadata": {
            "tags": []
          }
        }
      ]
    },
    {
      "cell_type": "code",
      "metadata": {
        "colab": {
          "base_uri": "https://localhost:8080/",
          "height": 285
        },
        "id": "4rxMh23c1zWU",
        "outputId": "041d8dbf-fa4e-4106-f31b-ab3718443a26"
      },
      "source": [
        "#box plot\n",
        "\n",
        "import seaborn as sns\n",
        "\n",
        "binned=pd.qcut(Full_df['carsize'], q=10)\n",
        "Full_df['carsize_bin']= binned\n",
        "# bucketizes values based on their distribution in a number of quantiles defined by q (her for eg, quartiles)\n",
        "\n",
        "sns.boxplot(x=Full_df['carsize_bin'], y=Full_df['price'], data=data, whis=10)\n",
        " \n",
        "# Plot the y-axis on a log scale\n",
        "#plt.yscale('log')\n",
        " \n",
        "# Remove unneeded lines and label axes\n",
        "sns.despine(left=True, bottom=True)\n",
        "plt.xlabel('Car size')\n",
        "plt.ylabel('price')\n",
        "\n",
        "plt.show()"
      ],
      "execution_count": 68,
      "outputs": [
        {
          "output_type": "display_data",
          "data": {
            "image/png": "[encoded data removed]",
            "text/plain": [
              "<Figure size 432x288 with 1 Axes>"
            ]
          },
          "metadata": {
            "tags": []
          }
        }
      ]
    },
    {
      "cell_type": "markdown",
      "metadata": {
        "id": "JZt97o_jSA33"
      },
      "source": [
        "# Correlation"
      ]
    },
    {
      "cell_type": "code",
      "metadata": {
        "colab": {
          "base_uri": "https://localhost:8080/"
        },
        "id": "nXBEx2Y7R9XY",
        "outputId": "27884943-0dbb-4a36-ac1e-852add1074b8"
      },
      "source": [
        "# Select columns\n",
        "#columns = [Full_df['carsize'], Full_df['price']]\n",
        "#subset = Full_df[columns]\n",
        " \n",
        "# Compute the correlation matrix\n",
        "#print(subset.corr())\n",
        "\n",
        "Full_df[Full_df.columns[1:]].corr()['price'][:]"
      ],
      "execution_count": 69,
      "outputs": [
        {
          "output_type": "execute_result",
          "data": {
            "text/plain": [
              "symboling          -0.1\n",
              "fueltype           -0.1\n",
              "drivewheel          0.6\n",
              "wheelbase           0.6\n",
              "carlength           0.7\n",
              "carwidth            0.8\n",
              "carheight           0.1\n",
              "curbweight          0.8\n",
              "enginesize          0.9\n",
              "boreratio           0.6\n",
              "stroke              0.1\n",
              "compressionratio    0.1\n",
              "horsepower          0.8\n",
              "peakrpm            -0.1\n",
              "citympg            -0.7\n",
              "highwaympg         -0.7\n",
              "price               1.0\n",
              "carsize             0.7\n",
              "Name: price, dtype: float64"
            ]
          },
          "metadata": {
            "tags": []
          },
          "execution_count": 69
        }
      ]
    },
    {
      "cell_type": "markdown",
      "metadata": {
        "id": "8_EFMcbEXOXC"
      },
      "source": [
        "**Regression**"
      ]
    },
    {
      "cell_type": "markdown",
      "metadata": {
        "id": "yNXtTbjYYQuh"
      },
      "source": [
        "# Features pre-processing- part 2\n",
        "\n",
        "**Numerical variables:** \n",
        "- Car ID - drop\n",
        "- Symboling - drop\n",
        "- Wheelbase: bucket\n",
        "- Carlength, carwidth, carheight: maybe bundle into Carvolume? or just lenght and width\n",
        "- curbweight: no idea\n",
        "- enginesize  -GOOD\n",
        "- boreratio: bucket\n",
        "- stroke: maybe a partial duplicate of bore ratio?\n",
        "- compression ratio- no idea\n",
        "- horsepower\n",
        "- peak RPM - good\n",
        "- city, highway mpg - good, maybe average *them*\n",
        "\n",
        "\n",
        "- All non-dropped: normalize\n",
        "\n",
        "\n",
        "**Categorical variables**\n",
        "\n",
        "- Carname - 1 hot\n",
        "- Fueltype - code, drop\n",
        "- Aspiration- code\n",
        "- Carbody- 1-hot\n",
        "- Doornumber- code\n",
        "- Drivewheel - code\n",
        "- Engine location- code\n",
        "- Engine type- code\n",
        "- Cylindernumber - code\n",
        "- Carbrand - 1hot"
      ]
    },
    {
      "cell_type": "markdown",
      "metadata": {
        "id": "HNUX4H2UJQme"
      },
      "source": [
        "## One-hot encoding of car brand"
      ]
    },
    {
      "cell_type": "code",
      "metadata": {
        "id": "k4eugQPmI-OX"
      },
      "source": [
        "### Variables to encode: CarName, doornumber, carbody, drivewheel, enginelocation, enginetype, cylindernumber, fuelsystem, CarBrand\n",
        "### Let's start with CarBrand\n",
        "\n",
        "from numpy import array\n",
        "from numpy import argmax\n",
        "from sklearn.preprocessing import LabelEncoder\n",
        "from sklearn.preprocessing import OneHotEncoder\n",
        "\n",
        "# define example\n",
        "data = Full_df['CarBrand']\n",
        "values = array(data) # this is a numpy thing\n",
        "#print(values)\n",
        "\n",
        "# integer encode\n",
        "label_encoder = LabelEncoder() # initialize it\n",
        "integer_encoded = label_encoder.fit_transform(values)\n",
        "#print(integer_encoded)\n",
        "\n",
        "# binary encode\n",
        "onehot_encoder = OneHotEncoder(sparse=False)\n",
        "integer_encoded = integer_encoded.reshape(len(integer_encoded), 1)\n",
        "onehot_encoded = onehot_encoder.fit_transform(integer_encoded)\n",
        "#print(onehot_encoded)\n",
        "\n",
        "# invert first example\n",
        "#inverted = label_encoder.inverse_transform([argmax(onehot_encoded[, :])]) #maps each column to the encoded labels\n",
        "#print(inverted)\n",
        "\n",
        "#what if I want a vector with all the inverted labels?\n",
        "\n",
        "\n"
      ],
      "execution_count": 70,
      "outputs": []
    },
    {
      "cell_type": "code",
      "metadata": {
        "colab": {
          "base_uri": "https://localhost:8080/",
          "height": 396
        },
        "id": "hTdNgMv9yZ5c",
        "outputId": "428c096a-6598-4421-a15a-c21e9db77028"
      },
      "source": [
        "#Inserting the Numpy array as vector values inside my df\n",
        "import numpy as np\n",
        "import pandas as pd\n",
        "import scipy.sparse as sparse\n",
        "\n",
        "\n",
        "#Full_df['CarBrand_enc'] = arr.toarray().tolist()\n",
        "\n",
        "#Full_df.head()\n",
        "\n",
        "##Maybe I can turn my array into a df and see from there:\n",
        "\n",
        "brand_df = pd.DataFrame(onehot_encoded)\n",
        "#brand_df.head()\n",
        "\n",
        "##But i need the right column names\n",
        "labels=Full_df['CarBrand'].unique()\n",
        "#print(labels)\n",
        "\n",
        "#print(brand_df.set_axis(labels, axis='columns'))\n",
        "#Nice! seems to work, but I'm not 100% sure that the column names are right because the order migt have changed during ecoding\n",
        "\n",
        "brand_df.set_axis(labels, axis='columns', inplace=True)\n",
        "brand_df.head(10)\n",
        "\n",
        "\n",
        "\n"
      ],
      "execution_count": 71,
      "outputs": [
        {
          "output_type": "execute_result",
          "data": {
            "text/html": [
              "<div>\n",
              "<style scoped>\n",
              "    .dataframe tbody tr th:only-of-type {\n",
              "        vertical-align: middle;\n",
              "    }\n",
              "\n",
              "    .dataframe tbody tr th {\n",
              "        vertical-align: top;\n",
              "    }\n",
              "\n",
              "    .dataframe thead th {\n",
              "        text-align: right;\n",
              "    }\n",
              "</style>\n",
              "<table border=\"1\" class=\"dataframe\">\n",
              "  <thead>\n",
              "    <tr style=\"text-align: right;\">\n",
              "      <th></th>\n",
              "      <th>alfa-romeo</th>\n",
              "      <th>audi</th>\n",
              "      <th>bmw</th>\n",
              "      <th>chevrolet</th>\n",
              "      <th>dodge</th>\n",
              "      <th>honda</th>\n",
              "      <th>isuzu</th>\n",
              "      <th>jaguar</th>\n",
              "      <th>mazda</th>\n",
              "      <th>buick</th>\n",
              "      <th>mercury</th>\n",
              "      <th>mitsubishi</th>\n",
              "      <th>nissan</th>\n",
              "      <th>peugeot</th>\n",
              "      <th>plymouth</th>\n",
              "      <th>porsche</th>\n",
              "      <th>renault</th>\n",
              "      <th>saab</th>\n",
              "      <th>subaru</th>\n",
              "      <th>toyota</th>\n",
              "      <th>volkswagen</th>\n",
              "      <th>volvo</th>\n",
              "    </tr>\n",
              "  </thead>\n",
              "  <tbody>\n",
              "    <tr>\n",
              "      <th>0</th>\n",
              "      <td>1.0</td>\n",
              "      <td>0.0</td>\n",
              "      <td>0.0</td>\n",
              "      <td>0.0</td>\n",
              "      <td>0.0</td>\n",
              "      <td>0.0</td>\n",
              "      <td>0.0</td>\n",
              "      <td>0.0</td>\n",
              "      <td>0.0</td>\n",
              "      <td>0.0</td>\n",
              "      <td>0.0</td>\n",
              "      <td>0.0</td>\n",
              "      <td>0.0</td>\n",
              "      <td>0.0</td>\n",
              "      <td>0.0</td>\n",
              "      <td>0.0</td>\n",
              "      <td>0.0</td>\n",
              "      <td>0.0</td>\n",
              "      <td>0.0</td>\n",
              "      <td>0.0</td>\n",
              "      <td>0.0</td>\n",
              "      <td>0.0</td>\n",
              "    </tr>\n",
              "    <tr>\n",
              "      <th>1</th>\n",
              "      <td>1.0</td>\n",
              "      <td>0.0</td>\n",
              "      <td>0.0</td>\n",
              "      <td>0.0</td>\n",
              "      <td>0.0</td>\n",
              "      <td>0.0</td>\n",
              "      <td>0.0</td>\n",
              "      <td>0.0</td>\n",
              "      <td>0.0</td>\n",
              "      <td>0.0</td>\n",
              "      <td>0.0</td>\n",
              "      <td>0.0</td>\n",
              "      <td>0.0</td>\n",
              "      <td>0.0</td>\n",
              "      <td>0.0</td>\n",
              "      <td>0.0</td>\n",
              "      <td>0.0</td>\n",
              "      <td>0.0</td>\n",
              "      <td>0.0</td>\n",
              "      <td>0.0</td>\n",
              "      <td>0.0</td>\n",
              "      <td>0.0</td>\n",
              "    </tr>\n",
              "    <tr>\n",
              "      <th>2</th>\n",
              "      <td>1.0</td>\n",
              "      <td>0.0</td>\n",
              "      <td>0.0</td>\n",
              "      <td>0.0</td>\n",
              "      <td>0.0</td>\n",
              "      <td>0.0</td>\n",
              "      <td>0.0</td>\n",
              "      <td>0.0</td>\n",
              "      <td>0.0</td>\n",
              "      <td>0.0</td>\n",
              "      <td>0.0</td>\n",
              "      <td>0.0</td>\n",
              "      <td>0.0</td>\n",
              "      <td>0.0</td>\n",
              "      <td>0.0</td>\n",
              "      <td>0.0</td>\n",
              "      <td>0.0</td>\n",
              "      <td>0.0</td>\n",
              "      <td>0.0</td>\n",
              "      <td>0.0</td>\n",
              "      <td>0.0</td>\n",
              "      <td>0.0</td>\n",
              "    </tr>\n",
              "    <tr>\n",
              "      <th>3</th>\n",
              "      <td>0.0</td>\n",
              "      <td>1.0</td>\n",
              "      <td>0.0</td>\n",
              "      <td>0.0</td>\n",
              "      <td>0.0</td>\n",
              "      <td>0.0</td>\n",
              "      <td>0.0</td>\n",
              "      <td>0.0</td>\n",
              "      <td>0.0</td>\n",
              "      <td>0.0</td>\n",
              "      <td>0.0</td>\n",
              "      <td>0.0</td>\n",
              "      <td>0.0</td>\n",
              "      <td>0.0</td>\n",
              "      <td>0.0</td>\n",
              "      <td>0.0</td>\n",
              "      <td>0.0</td>\n",
              "      <td>0.0</td>\n",
              "      <td>0.0</td>\n",
              "      <td>0.0</td>\n",
              "      <td>0.0</td>\n",
              "      <td>0.0</td>\n",
              "    </tr>\n",
              "    <tr>\n",
              "      <th>4</th>\n",
              "      <td>0.0</td>\n",
              "      <td>1.0</td>\n",
              "      <td>0.0</td>\n",
              "      <td>0.0</td>\n",
              "      <td>0.0</td>\n",
              "      <td>0.0</td>\n",
              "      <td>0.0</td>\n",
              "      <td>0.0</td>\n",
              "      <td>0.0</td>\n",
              "      <td>0.0</td>\n",
              "      <td>0.0</td>\n",
              "      <td>0.0</td>\n",
              "      <td>0.0</td>\n",
              "      <td>0.0</td>\n",
              "      <td>0.0</td>\n",
              "      <td>0.0</td>\n",
              "      <td>0.0</td>\n",
              "      <td>0.0</td>\n",
              "      <td>0.0</td>\n",
              "      <td>0.0</td>\n",
              "      <td>0.0</td>\n",
              "      <td>0.0</td>\n",
              "    </tr>\n",
              "    <tr>\n",
              "      <th>5</th>\n",
              "      <td>0.0</td>\n",
              "      <td>1.0</td>\n",
              "      <td>0.0</td>\n",
              "      <td>0.0</td>\n",
              "      <td>0.0</td>\n",
              "      <td>0.0</td>\n",
              "      <td>0.0</td>\n",
              "      <td>0.0</td>\n",
              "      <td>0.0</td>\n",
              "      <td>0.0</td>\n",
              "      <td>0.0</td>\n",
              "      <td>0.0</td>\n",
              "      <td>0.0</td>\n",
              "      <td>0.0</td>\n",
              "      <td>0.0</td>\n",
              "      <td>0.0</td>\n",
              "      <td>0.0</td>\n",
              "      <td>0.0</td>\n",
              "      <td>0.0</td>\n",
              "      <td>0.0</td>\n",
              "      <td>0.0</td>\n",
              "      <td>0.0</td>\n",
              "    </tr>\n",
              "    <tr>\n",
              "      <th>6</th>\n",
              "      <td>0.0</td>\n",
              "      <td>1.0</td>\n",
              "      <td>0.0</td>\n",
              "      <td>0.0</td>\n",
              "      <td>0.0</td>\n",
              "      <td>0.0</td>\n",
              "      <td>0.0</td>\n",
              "      <td>0.0</td>\n",
              "      <td>0.0</td>\n",
              "      <td>0.0</td>\n",
              "      <td>0.0</td>\n",
              "      <td>0.0</td>\n",
              "      <td>0.0</td>\n",
              "      <td>0.0</td>\n",
              "      <td>0.0</td>\n",
              "      <td>0.0</td>\n",
              "      <td>0.0</td>\n",
              "      <td>0.0</td>\n",
              "      <td>0.0</td>\n",
              "      <td>0.0</td>\n",
              "      <td>0.0</td>\n",
              "      <td>0.0</td>\n",
              "    </tr>\n",
              "    <tr>\n",
              "      <th>7</th>\n",
              "      <td>0.0</td>\n",
              "      <td>1.0</td>\n",
              "      <td>0.0</td>\n",
              "      <td>0.0</td>\n",
              "      <td>0.0</td>\n",
              "      <td>0.0</td>\n",
              "      <td>0.0</td>\n",
              "      <td>0.0</td>\n",
              "      <td>0.0</td>\n",
              "      <td>0.0</td>\n",
              "      <td>0.0</td>\n",
              "      <td>0.0</td>\n",
              "      <td>0.0</td>\n",
              "      <td>0.0</td>\n",
              "      <td>0.0</td>\n",
              "      <td>0.0</td>\n",
              "      <td>0.0</td>\n",
              "      <td>0.0</td>\n",
              "      <td>0.0</td>\n",
              "      <td>0.0</td>\n",
              "      <td>0.0</td>\n",
              "      <td>0.0</td>\n",
              "    </tr>\n",
              "    <tr>\n",
              "      <th>8</th>\n",
              "      <td>0.0</td>\n",
              "      <td>1.0</td>\n",
              "      <td>0.0</td>\n",
              "      <td>0.0</td>\n",
              "      <td>0.0</td>\n",
              "      <td>0.0</td>\n",
              "      <td>0.0</td>\n",
              "      <td>0.0</td>\n",
              "      <td>0.0</td>\n",
              "      <td>0.0</td>\n",
              "      <td>0.0</td>\n",
              "      <td>0.0</td>\n",
              "      <td>0.0</td>\n",
              "      <td>0.0</td>\n",
              "      <td>0.0</td>\n",
              "      <td>0.0</td>\n",
              "      <td>0.0</td>\n",
              "      <td>0.0</td>\n",
              "      <td>0.0</td>\n",
              "      <td>0.0</td>\n",
              "      <td>0.0</td>\n",
              "      <td>0.0</td>\n",
              "    </tr>\n",
              "    <tr>\n",
              "      <th>9</th>\n",
              "      <td>0.0</td>\n",
              "      <td>1.0</td>\n",
              "      <td>0.0</td>\n",
              "      <td>0.0</td>\n",
              "      <td>0.0</td>\n",
              "      <td>0.0</td>\n",
              "      <td>0.0</td>\n",
              "      <td>0.0</td>\n",
              "      <td>0.0</td>\n",
              "      <td>0.0</td>\n",
              "      <td>0.0</td>\n",
              "      <td>0.0</td>\n",
              "      <td>0.0</td>\n",
              "      <td>0.0</td>\n",
              "      <td>0.0</td>\n",
              "      <td>0.0</td>\n",
              "      <td>0.0</td>\n",
              "      <td>0.0</td>\n",
              "      <td>0.0</td>\n",
              "      <td>0.0</td>\n",
              "      <td>0.0</td>\n",
              "      <td>0.0</td>\n",
              "    </tr>\n",
              "  </tbody>\n",
              "</table>\n",
              "</div>"
            ],
            "text/plain": [
              "   alfa-romeo  audi  bmw  chevrolet  ...  subaru  toyota  volkswagen  volvo\n",
              "0         1.0   0.0  0.0        0.0  ...     0.0     0.0         0.0    0.0\n",
              "1         1.0   0.0  0.0        0.0  ...     0.0     0.0         0.0    0.0\n",
              "2         1.0   0.0  0.0        0.0  ...     0.0     0.0         0.0    0.0\n",
              "3         0.0   1.0  0.0        0.0  ...     0.0     0.0         0.0    0.0\n",
              "4         0.0   1.0  0.0        0.0  ...     0.0     0.0         0.0    0.0\n",
              "5         0.0   1.0  0.0        0.0  ...     0.0     0.0         0.0    0.0\n",
              "6         0.0   1.0  0.0        0.0  ...     0.0     0.0         0.0    0.0\n",
              "7         0.0   1.0  0.0        0.0  ...     0.0     0.0         0.0    0.0\n",
              "8         0.0   1.0  0.0        0.0  ...     0.0     0.0         0.0    0.0\n",
              "9         0.0   1.0  0.0        0.0  ...     0.0     0.0         0.0    0.0\n",
              "\n",
              "[10 rows x 22 columns]"
            ]
          },
          "metadata": {
            "tags": []
          },
          "execution_count": 71
        }
      ]
    },
    {
      "cell_type": "markdown",
      "metadata": {
        "id": "dzbEyrF2FagI"
      },
      "source": [
        "## Fuzzy matching of of Car Name"
      ]
    },
    {
      "cell_type": "code",
      "metadata": {
        "colab": {
          "base_uri": "https://localhost:8080/"
        },
        "id": "9N2zkgqmGlJp",
        "outputId": "b226bebe-198b-48d6-9364-f658e0acf663"
      },
      "source": [
        "pip install fuzzywuzzy\n"
      ],
      "execution_count": 72,
      "outputs": [
        {
          "output_type": "stream",
          "text": [
            "Requirement already satisfied: fuzzywuzzy in /usr/local/lib/python3.7/dist-packages (0.18.0)\n"
          ],
          "name": "stdout"
        }
      ]
    },
    {
      "cell_type": "code",
      "metadata": {
        "id": "5JqpIl7YGst2"
      },
      "source": [
        "from fuzzywuzzy import fuzz"
      ],
      "execution_count": 73,
      "outputs": []
    },
    {
      "cell_type": "code",
      "metadata": {
        "colab": {
          "base_uri": "https://localhost:8080/"
        },
        "id": "UzAfXaUwFbnI",
        "outputId": "e49ed218-c4a7-4fd6-cbfb-200a531d4805"
      },
      "source": [
        "# Martin --> Fuzzy matching\n",
        "\n",
        "#Levenstein distance: how many changes do I need to do before 2 strings become the same (so if 80, 80% the same)\n",
        "#If they are more than 80% the same, they will stay in one group\n",
        "\n",
        "combined_list = ['rakesh', 'zakesh', 'bikash', 'zikash', 'goldman LLC', 'oldman LLC']\n",
        "combined_list.append('bakesh')\n",
        "#print('input names:', combined_list)\n",
        "\n",
        "grs = list() # groups of names with distance > 80\n",
        "for name in combined_list:\n",
        "    for g in grs:\n",
        "        if all(fuzz.ratio(name, w) > 80 for w in g):  #w= words in the group\n",
        "            g.append(name)\n",
        "            break\n",
        "    else:\n",
        "        grs.append([name, ])\n",
        "\n",
        "#print('output groups:', grs)\n",
        "#outlist = [el for g in grs for el in g] ## element for group in groups for element in group\n",
        "#print('output list:', outlist)\n",
        "\n",
        "\n",
        "##pick the first element \n",
        "final_names=[]\n",
        "for g in grs:\n",
        "  final_names.append(g[0])\n",
        "print(final_names)\n",
        "\n"
      ],
      "execution_count": 74,
      "outputs": [
        {
          "output_type": "stream",
          "text": [
            "['rakesh', 'bikash', 'goldman LLC']\n"
          ],
          "name": "stdout"
        }
      ]
    },
    {
      "cell_type": "code",
      "metadata": {
        "colab": {
          "base_uri": "https://localhost:8080/"
        },
        "id": "ysnbfx1wcYMY",
        "outputId": "7d5ac352-d382-4a6e-f97a-ff66cf545165"
      },
      "source": [
        "Full_df['CarName'].unique()\n",
        "#Full_df['CarName'].count()"
      ],
      "execution_count": 75,
      "outputs": [
        {
          "output_type": "execute_result",
          "data": {
            "text/plain": [
              "array(['alfa-romero giulia', 'alfa-romero stelvio',\n",
              "       'alfa-romero Quadrifoglio', 'audi 100 ls', 'audi 100ls',\n",
              "       'audi fox', 'audi 5000', 'audi 4000', 'audi 5000s (diesel)',\n",
              "       'bmw 320i', 'bmw x1', 'bmw x3', 'bmw z4', 'bmw x4', 'bmw x5',\n",
              "       'chevrolet impala', 'chevrolet monte carlo', 'chevrolet vega 2300',\n",
              "       'dodge rampage', 'dodge challenger se', 'dodge d200',\n",
              "       'dodge monaco (sw)', 'dodge colt hardtop', 'dodge colt (sw)',\n",
              "       'dodge coronet custom', 'dodge dart custom',\n",
              "       'dodge coronet custom (sw)', 'honda civic', 'honda civic cvcc',\n",
              "       'honda accord cvcc', 'honda accord lx', 'honda civic 1500 gl',\n",
              "       'honda accord', 'honda civic 1300', 'honda prelude',\n",
              "       'honda civic (auto)', 'isuzu MU-X', 'isuzu D-Max ',\n",
              "       'isuzu D-Max V-Cross', 'jaguar xj', 'jaguar xf', 'jaguar xk',\n",
              "       'maxda rx3', 'maxda glc deluxe', 'mazda rx2 coupe', 'mazda rx-4',\n",
              "       'mazda glc deluxe', 'mazda 626', 'mazda glc', 'mazda rx-7 gs',\n",
              "       'mazda glc 4', 'mazda glc custom l', 'mazda glc custom',\n",
              "       'buick electra 225 custom', 'buick century luxus (sw)',\n",
              "       'buick century', 'buick skyhawk', 'buick opel isuzu deluxe',\n",
              "       'buick skylark', 'buick century special',\n",
              "       'buick regal sport coupe (turbo)', 'mercury cougar',\n",
              "       'mitsubishi mirage', 'mitsubishi lancer', 'mitsubishi outlander',\n",
              "       'mitsubishi g4', 'mitsubishi mirage g4', 'mitsubishi montero',\n",
              "       'mitsubishi pajero', 'Nissan versa', 'nissan gt-r', 'nissan rogue',\n",
              "       'nissan latio', 'nissan titan', 'nissan leaf', 'nissan juke',\n",
              "       'nissan note', 'nissan clipper', 'nissan nv200', 'nissan dayz',\n",
              "       'nissan fuga', 'nissan otti', 'nissan teana', 'nissan kicks',\n",
              "       'peugeot 504', 'peugeot 304', 'peugeot 504 (sw)', 'peugeot 604sl',\n",
              "       'peugeot 505s turbo diesel', 'plymouth fury iii',\n",
              "       'plymouth cricket', 'plymouth satellite custom (sw)',\n",
              "       'plymouth fury gran sedan', 'plymouth valiant', 'plymouth duster',\n",
              "       'porsche macan', 'porcshce panamera', 'porsche cayenne',\n",
              "       'porsche boxter', 'renault 12tl', 'renault 5 gtl', 'saab 99e',\n",
              "       'saab 99le', 'saab 99gle', 'subaru', 'subaru dl', 'subaru brz',\n",
              "       'subaru baja', 'subaru r1', 'subaru r2', 'subaru trezia',\n",
              "       'subaru tribeca', 'toyota corona mark ii', 'toyota corona',\n",
              "       'toyota corolla 1200', 'toyota corona hardtop',\n",
              "       'toyota corolla 1600 (sw)', 'toyota carina', 'toyota mark ii',\n",
              "       'toyota corolla', 'toyota corolla liftback',\n",
              "       'toyota celica gt liftback', 'toyota corolla tercel',\n",
              "       'toyota corona liftback', 'toyota starlet', 'toyota tercel',\n",
              "       'toyota cressida', 'toyota celica gt', 'toyouta tercel',\n",
              "       'vokswagen rabbit', 'volkswagen 1131 deluxe sedan',\n",
              "       'volkswagen model 111', 'volkswagen type 3', 'volkswagen 411 (sw)',\n",
              "       'volkswagen super beetle', 'volkswagen dasher', 'vw dasher',\n",
              "       'vw rabbit', 'volkswagen rabbit', 'volkswagen rabbit custom',\n",
              "       'volvo 145e (sw)', 'volvo 144ea', 'volvo 244dl', 'volvo 245',\n",
              "       'volvo 264gl', 'volvo diesel', 'volvo 246'], dtype=object)"
            ]
          },
          "metadata": {
            "tags": []
          },
          "execution_count": 75
        }
      ]
    },
    {
      "cell_type": "code",
      "metadata": {
        "colab": {
          "base_uri": "https://localhost:8080/"
        },
        "id": "ursG_ji9a0so",
        "outputId": "d6da4005-fca3-4d12-969c-ffdfe7cd263d"
      },
      "source": [
        "#Fuzzy matching to clean up carname\n",
        "\n",
        "\n",
        "grs = list() # groups of names with distance > 80\n",
        "for name in Full_df['CarName']:\n",
        "    for g in grs:\n",
        "        if all(fuzz.ratio(name, w) > 90 for w in g):  #w= words in the group\n",
        "            g.append(name)\n",
        "            break\n",
        "    else:\n",
        "        grs.append([name, ])\n",
        "\n",
        "print('output groups:', grs)\n",
        "\n",
        "#with w>90 it seems to work, but not perfectly\n",
        "\n",
        "\n",
        "\n",
        "\n",
        "outlist = [el for g in grs for el in g] ## element for group in groups for element in group\n",
        "print('output list:', outlist)\n",
        "\n",
        "\n",
        "##pick the first element \n",
        "#final_names=[]\n",
        "#for g in grs:\n",
        " # final_names.append(g[0])\n",
        "#print(final_names)"
      ],
      "execution_count": 76,
      "outputs": [
        {
          "output_type": "stream",
          "text": [
            "output groups: [['alfa-romero giulia'], ['alfa-romero stelvio'], ['alfa-romero Quadrifoglio'], ['audi 100 ls', 'audi 100ls', 'audi 100ls'], ['audi fox'], ['audi 5000'], ['audi 4000'], ['audi 5000s (diesel)'], ['bmw 320i', 'bmw 320i'], ['bmw x1'], ['bmw x3', 'bmw x3'], ['bmw z4'], ['bmw x4'], ['bmw x5'], ['chevrolet impala'], ['chevrolet monte carlo'], ['chevrolet vega 2300'], ['dodge rampage'], ['dodge challenger se'], ['dodge d200'], ['dodge monaco (sw)'], ['dodge colt hardtop'], ['dodge colt (sw)'], ['dodge coronet custom'], ['dodge dart custom'], ['dodge coronet custom (sw)'], ['honda civic', 'honda civic', 'honda civic'], ['honda civic cvcc', 'honda civic cvcc'], ['honda accord cvcc'], ['honda accord lx'], ['honda civic 1500 gl'], ['honda accord', 'honda accord'], ['honda civic 1300'], ['honda prelude'], ['honda civic (auto)'], ['isuzu MU-X'], ['isuzu D-Max ', 'isuzu D-Max '], ['isuzu D-Max V-Cross'], ['jaguar xj'], ['jaguar xf'], ['jaguar xk'], ['maxda rx3'], ['maxda glc deluxe', 'mazda glc deluxe', 'mazda glc deluxe'], ['mazda rx2 coupe'], ['mazda rx-4', 'mazda rx-4'], ['mazda 626', 'mazda 626', 'mazda 626'], ['mazda glc', 'mazda glc'], ['mazda rx-7 gs', 'mazda rx-7 gs'], ['mazda glc 4'], ['mazda glc custom l', 'mazda glc custom'], ['buick electra 225 custom'], ['buick century luxus (sw)'], ['buick century'], ['buick skyhawk'], ['buick opel isuzu deluxe'], ['buick skylark'], ['buick century special'], ['buick regal sport coupe (turbo)'], ['mercury cougar'], ['mitsubishi mirage', 'mitsubishi mirage g4', 'mitsubishi mirage g4', 'mitsubishi mirage g4'], ['mitsubishi lancer'], ['mitsubishi outlander', 'mitsubishi outlander', 'mitsubishi outlander'], ['mitsubishi g4', 'mitsubishi g4', 'mitsubishi g4'], ['mitsubishi montero'], ['mitsubishi pajero'], ['Nissan versa'], ['nissan gt-r'], ['nissan rogue', 'nissan rogue'], ['nissan latio', 'nissan latio'], ['nissan titan'], ['nissan leaf'], ['nissan juke'], ['nissan note'], ['nissan clipper', 'nissan clipper'], ['nissan nv200'], ['nissan dayz'], ['nissan fuga'], ['nissan otti'], ['nissan teana'], ['nissan kicks'], ['peugeot 504', 'peugeot 304', 'peugeot 504', 'peugeot 504', 'peugeot 504', 'peugeot 504', 'peugeot 504'], ['peugeot 504 (sw)'], ['peugeot 604sl', 'peugeot 604sl'], ['peugeot 505s turbo diesel'], ['plymouth fury iii', 'plymouth fury iii'], ['plymouth cricket'], ['plymouth satellite custom (sw)'], ['plymouth fury gran sedan'], ['plymouth valiant'], ['plymouth duster'], ['porsche macan'], ['porcshce panamera'], ['porsche cayenne', 'porsche cayenne'], ['porsche boxter'], ['renault 12tl'], ['renault 5 gtl'], ['saab 99e', 'saab 99le', 'saab 99le', 'saab 99e'], ['saab 99gle', 'saab 99gle'], ['subaru', 'subaru'], ['subaru dl', 'subaru dl', 'subaru dl', 'subaru dl'], ['subaru brz'], ['subaru baja'], ['subaru r1'], ['subaru r2'], ['subaru trezia'], ['subaru tribeca'], ['toyota corona mark ii'], ['toyota corona', 'toyota corona', 'toyota corona', 'toyota corona', 'toyota corona', 'toyota corona'], ['toyota corolla 1200', 'toyota corolla 1200'], ['toyota corona hardtop'], ['toyota corolla 1600 (sw)'], ['toyota carina'], ['toyota mark ii', 'toyota mark ii', 'toyota mark ii'], ['toyota corolla', 'toyota corolla', 'toyota corolla', 'toyota corolla', 'toyota corolla', 'toyota corolla'], ['toyota corolla liftback', 'toyota corona liftback', 'toyota corolla liftback'], ['toyota celica gt liftback'], ['toyota corolla tercel'], ['toyota starlet', 'toyota starlet'], ['toyota tercel', 'toyouta tercel'], ['toyota cressida'], ['toyota celica gt'], ['vokswagen rabbit', 'volkswagen rabbit'], ['volkswagen 1131 deluxe sedan'], ['volkswagen model 111'], ['volkswagen type 3'], ['volkswagen 411 (sw)'], ['volkswagen super beetle'], ['volkswagen dasher', 'volkswagen dasher'], ['vw dasher'], ['vw rabbit'], ['volkswagen rabbit custom'], ['volvo 145e (sw)', 'volvo 145e (sw)'], ['volvo 144ea', 'volvo 144ea'], ['volvo 244dl', 'volvo 244dl'], ['volvo 245'], ['volvo 264gl', 'volvo 264gl'], ['volvo diesel'], ['volvo 246']]\n",
            "output list: ['alfa-romero giulia', 'alfa-romero stelvio', 'alfa-romero Quadrifoglio', 'audi 100 ls', 'audi 100ls', 'audi 100ls', 'audi fox', 'audi 5000', 'audi 4000', 'audi 5000s (diesel)', 'bmw 320i', 'bmw 320i', 'bmw x1', 'bmw x3', 'bmw x3', 'bmw z4', 'bmw x4', 'bmw x5', 'chevrolet impala', 'chevrolet monte carlo', 'chevrolet vega 2300', 'dodge rampage', 'dodge challenger se', 'dodge d200', 'dodge monaco (sw)', 'dodge colt hardtop', 'dodge colt (sw)', 'dodge coronet custom', 'dodge dart custom', 'dodge coronet custom (sw)', 'honda civic', 'honda civic', 'honda civic', 'honda civic cvcc', 'honda civic cvcc', 'honda accord cvcc', 'honda accord lx', 'honda civic 1500 gl', 'honda accord', 'honda accord', 'honda civic 1300', 'honda prelude', 'honda civic (auto)', 'isuzu MU-X', 'isuzu D-Max ', 'isuzu D-Max ', 'isuzu D-Max V-Cross', 'jaguar xj', 'jaguar xf', 'jaguar xk', 'maxda rx3', 'maxda glc deluxe', 'mazda glc deluxe', 'mazda glc deluxe', 'mazda rx2 coupe', 'mazda rx-4', 'mazda rx-4', 'mazda 626', 'mazda 626', 'mazda 626', 'mazda glc', 'mazda glc', 'mazda rx-7 gs', 'mazda rx-7 gs', 'mazda glc 4', 'mazda glc custom l', 'mazda glc custom', 'buick electra 225 custom', 'buick century luxus (sw)', 'buick century', 'buick skyhawk', 'buick opel isuzu deluxe', 'buick skylark', 'buick century special', 'buick regal sport coupe (turbo)', 'mercury cougar', 'mitsubishi mirage', 'mitsubishi mirage g4', 'mitsubishi mirage g4', 'mitsubishi mirage g4', 'mitsubishi lancer', 'mitsubishi outlander', 'mitsubishi outlander', 'mitsubishi outlander', 'mitsubishi g4', 'mitsubishi g4', 'mitsubishi g4', 'mitsubishi montero', 'mitsubishi pajero', 'Nissan versa', 'nissan gt-r', 'nissan rogue', 'nissan rogue', 'nissan latio', 'nissan latio', 'nissan titan', 'nissan leaf', 'nissan juke', 'nissan note', 'nissan clipper', 'nissan clipper', 'nissan nv200', 'nissan dayz', 'nissan fuga', 'nissan otti', 'nissan teana', 'nissan kicks', 'peugeot 504', 'peugeot 304', 'peugeot 504', 'peugeot 504', 'peugeot 504', 'peugeot 504', 'peugeot 504', 'peugeot 504 (sw)', 'peugeot 604sl', 'peugeot 604sl', 'peugeot 505s turbo diesel', 'plymouth fury iii', 'plymouth fury iii', 'plymouth cricket', 'plymouth satellite custom (sw)', 'plymouth fury gran sedan', 'plymouth valiant', 'plymouth duster', 'porsche macan', 'porcshce panamera', 'porsche cayenne', 'porsche cayenne', 'porsche boxter', 'renault 12tl', 'renault 5 gtl', 'saab 99e', 'saab 99le', 'saab 99le', 'saab 99e', 'saab 99gle', 'saab 99gle', 'subaru', 'subaru', 'subaru dl', 'subaru dl', 'subaru dl', 'subaru dl', 'subaru brz', 'subaru baja', 'subaru r1', 'subaru r2', 'subaru trezia', 'subaru tribeca', 'toyota corona mark ii', 'toyota corona', 'toyota corona', 'toyota corona', 'toyota corona', 'toyota corona', 'toyota corona', 'toyota corolla 1200', 'toyota corolla 1200', 'toyota corona hardtop', 'toyota corolla 1600 (sw)', 'toyota carina', 'toyota mark ii', 'toyota mark ii', 'toyota mark ii', 'toyota corolla', 'toyota corolla', 'toyota corolla', 'toyota corolla', 'toyota corolla', 'toyota corolla', 'toyota corolla liftback', 'toyota corona liftback', 'toyota corolla liftback', 'toyota celica gt liftback', 'toyota corolla tercel', 'toyota starlet', 'toyota starlet', 'toyota tercel', 'toyouta tercel', 'toyota cressida', 'toyota celica gt', 'vokswagen rabbit', 'volkswagen rabbit', 'volkswagen 1131 deluxe sedan', 'volkswagen model 111', 'volkswagen type 3', 'volkswagen 411 (sw)', 'volkswagen super beetle', 'volkswagen dasher', 'volkswagen dasher', 'vw dasher', 'vw rabbit', 'volkswagen rabbit custom', 'volvo 145e (sw)', 'volvo 145e (sw)', 'volvo 144ea', 'volvo 144ea', 'volvo 244dl', 'volvo 244dl', 'volvo 245', 'volvo 264gl', 'volvo 264gl', 'volvo diesel', 'volvo 246']\n"
          ],
          "name": "stdout"
        }
      ]
    },
    {
      "cell_type": "code",
      "metadata": {
        "colab": {
          "base_uri": "https://localhost:8080/"
        },
        "id": "Jf8fp3jTdeZ5",
        "outputId": "ca090c33-9fdf-44dd-b7ff-880d3057326d"
      },
      "source": [
        "#Let's create a feature now\n",
        "Full_df['CarName1']=outlist\n",
        "Full_df['CarName1'].unique()\n",
        "\n",
        "  "
      ],
      "execution_count": 77,
      "outputs": [
        {
          "output_type": "execute_result",
          "data": {
            "text/plain": [
              "array(['alfa-romero giulia', 'alfa-romero stelvio',\n",
              "       'alfa-romero Quadrifoglio', 'audi 100 ls', 'audi 100ls',\n",
              "       'audi fox', 'audi 5000', 'audi 4000', 'audi 5000s (diesel)',\n",
              "       'bmw 320i', 'bmw x1', 'bmw x3', 'bmw z4', 'bmw x4', 'bmw x5',\n",
              "       'chevrolet impala', 'chevrolet monte carlo', 'chevrolet vega 2300',\n",
              "       'dodge rampage', 'dodge challenger se', 'dodge d200',\n",
              "       'dodge monaco (sw)', 'dodge colt hardtop', 'dodge colt (sw)',\n",
              "       'dodge coronet custom', 'dodge dart custom',\n",
              "       'dodge coronet custom (sw)', 'honda civic', 'honda civic cvcc',\n",
              "       'honda accord cvcc', 'honda accord lx', 'honda civic 1500 gl',\n",
              "       'honda accord', 'honda civic 1300', 'honda prelude',\n",
              "       'honda civic (auto)', 'isuzu MU-X', 'isuzu D-Max ',\n",
              "       'isuzu D-Max V-Cross', 'jaguar xj', 'jaguar xf', 'jaguar xk',\n",
              "       'maxda rx3', 'maxda glc deluxe', 'mazda glc deluxe',\n",
              "       'mazda rx2 coupe', 'mazda rx-4', 'mazda 626', 'mazda glc',\n",
              "       'mazda rx-7 gs', 'mazda glc 4', 'mazda glc custom l',\n",
              "       'mazda glc custom', 'buick electra 225 custom',\n",
              "       'buick century luxus (sw)', 'buick century', 'buick skyhawk',\n",
              "       'buick opel isuzu deluxe', 'buick skylark',\n",
              "       'buick century special', 'buick regal sport coupe (turbo)',\n",
              "       'mercury cougar', 'mitsubishi mirage', 'mitsubishi mirage g4',\n",
              "       'mitsubishi lancer', 'mitsubishi outlander', 'mitsubishi g4',\n",
              "       'mitsubishi montero', 'mitsubishi pajero', 'Nissan versa',\n",
              "       'nissan gt-r', 'nissan rogue', 'nissan latio', 'nissan titan',\n",
              "       'nissan leaf', 'nissan juke', 'nissan note', 'nissan clipper',\n",
              "       'nissan nv200', 'nissan dayz', 'nissan fuga', 'nissan otti',\n",
              "       'nissan teana', 'nissan kicks', 'peugeot 504', 'peugeot 304',\n",
              "       'peugeot 504 (sw)', 'peugeot 604sl', 'peugeot 505s turbo diesel',\n",
              "       'plymouth fury iii', 'plymouth cricket',\n",
              "       'plymouth satellite custom (sw)', 'plymouth fury gran sedan',\n",
              "       'plymouth valiant', 'plymouth duster', 'porsche macan',\n",
              "       'porcshce panamera', 'porsche cayenne', 'porsche boxter',\n",
              "       'renault 12tl', 'renault 5 gtl', 'saab 99e', 'saab 99le',\n",
              "       'saab 99gle', 'subaru', 'subaru dl', 'subaru brz', 'subaru baja',\n",
              "       'subaru r1', 'subaru r2', 'subaru trezia', 'subaru tribeca',\n",
              "       'toyota corona mark ii', 'toyota corona', 'toyota corolla 1200',\n",
              "       'toyota corona hardtop', 'toyota corolla 1600 (sw)',\n",
              "       'toyota carina', 'toyota mark ii', 'toyota corolla',\n",
              "       'toyota corolla liftback', 'toyota corona liftback',\n",
              "       'toyota celica gt liftback', 'toyota corolla tercel',\n",
              "       'toyota starlet', 'toyota tercel', 'toyouta tercel',\n",
              "       'toyota cressida', 'toyota celica gt', 'vokswagen rabbit',\n",
              "       'volkswagen rabbit', 'volkswagen 1131 deluxe sedan',\n",
              "       'volkswagen model 111', 'volkswagen type 3', 'volkswagen 411 (sw)',\n",
              "       'volkswagen super beetle', 'volkswagen dasher', 'vw dasher',\n",
              "       'vw rabbit', 'volkswagen rabbit custom', 'volvo 145e (sw)',\n",
              "       'volvo 144ea', 'volvo 244dl', 'volvo 245', 'volvo 264gl',\n",
              "       'volvo diesel', 'volvo 246'], dtype=object)"
            ]
          },
          "metadata": {
            "tags": []
          },
          "execution_count": 77
        }
      ]
    },
    {
      "cell_type": "markdown",
      "metadata": {
        "id": "yGY9IakD594S"
      },
      "source": [
        "## Finalize the new data"
      ]
    },
    {
      "cell_type": "code",
      "metadata": {
        "colab": {
          "base_uri": "https://localhost:8080/",
          "height": 309
        },
        "id": "lqtqjkel6NXu",
        "outputId": "8e70b800-2948-45ec-c752-bf8a7f927594"
      },
      "source": [
        "Full_df.head()"
      ],
      "execution_count": 78,
      "outputs": [
        {
          "output_type": "execute_result",
          "data": {
            "text/html": [
              "<div>\n",
              "<style scoped>\n",
              "    .dataframe tbody tr th:only-of-type {\n",
              "        vertical-align: middle;\n",
              "    }\n",
              "\n",
              "    .dataframe tbody tr th {\n",
              "        vertical-align: top;\n",
              "    }\n",
              "\n",
              "    .dataframe thead th {\n",
              "        text-align: right;\n",
              "    }\n",
              "</style>\n",
              "<table border=\"1\" class=\"dataframe\">\n",
              "  <thead>\n",
              "    <tr style=\"text-align: right;\">\n",
              "      <th></th>\n",
              "      <th>car_ID</th>\n",
              "      <th>symboling</th>\n",
              "      <th>CarName</th>\n",
              "      <th>fueltype</th>\n",
              "      <th>aspiration</th>\n",
              "      <th>doornumber</th>\n",
              "      <th>carbody</th>\n",
              "      <th>drivewheel</th>\n",
              "      <th>enginelocation</th>\n",
              "      <th>wheelbase</th>\n",
              "      <th>carlength</th>\n",
              "      <th>carwidth</th>\n",
              "      <th>carheight</th>\n",
              "      <th>curbweight</th>\n",
              "      <th>enginetype</th>\n",
              "      <th>cylindernumber</th>\n",
              "      <th>enginesize</th>\n",
              "      <th>fuelsystem</th>\n",
              "      <th>boreratio</th>\n",
              "      <th>stroke</th>\n",
              "      <th>compressionratio</th>\n",
              "      <th>horsepower</th>\n",
              "      <th>peakrpm</th>\n",
              "      <th>citympg</th>\n",
              "      <th>highwaympg</th>\n",
              "      <th>price</th>\n",
              "      <th>CarBrand</th>\n",
              "      <th>carsize</th>\n",
              "      <th>carsize_bin</th>\n",
              "      <th>CarName1</th>\n",
              "    </tr>\n",
              "  </thead>\n",
              "  <tbody>\n",
              "    <tr>\n",
              "      <th>0</th>\n",
              "      <td>1</td>\n",
              "      <td>3</td>\n",
              "      <td>alfa-romero giulia</td>\n",
              "      <td>1</td>\n",
              "      <td>std</td>\n",
              "      <td>two</td>\n",
              "      <td>convertible</td>\n",
              "      <td>2</td>\n",
              "      <td>front</td>\n",
              "      <td>88.6</td>\n",
              "      <td>168.8</td>\n",
              "      <td>64.1</td>\n",
              "      <td>48.8</td>\n",
              "      <td>2548</td>\n",
              "      <td>dohc</td>\n",
              "      <td>four</td>\n",
              "      <td>130</td>\n",
              "      <td>mpfi</td>\n",
              "      <td>3.5</td>\n",
              "      <td>2.7</td>\n",
              "      <td>9.0</td>\n",
              "      <td>111</td>\n",
              "      <td>5000</td>\n",
              "      <td>21</td>\n",
              "      <td>27</td>\n",
              "      <td>13495.0</td>\n",
              "      <td>alfa-romeo</td>\n",
              "      <td>10820.1</td>\n",
              "      <td>(10796.8, 11246.35]</td>\n",
              "      <td>alfa-romero giulia</td>\n",
              "    </tr>\n",
              "    <tr>\n",
              "      <th>1</th>\n",
              "      <td>2</td>\n",
              "      <td>3</td>\n",
              "      <td>alfa-romero stelvio</td>\n",
              "      <td>1</td>\n",
              "      <td>std</td>\n",
              "      <td>two</td>\n",
              "      <td>convertible</td>\n",
              "      <td>2</td>\n",
              "      <td>front</td>\n",
              "      <td>88.6</td>\n",
              "      <td>168.8</td>\n",
              "      <td>64.1</td>\n",
              "      <td>48.8</td>\n",
              "      <td>2548</td>\n",
              "      <td>dohc</td>\n",
              "      <td>four</td>\n",
              "      <td>130</td>\n",
              "      <td>mpfi</td>\n",
              "      <td>3.5</td>\n",
              "      <td>2.7</td>\n",
              "      <td>9.0</td>\n",
              "      <td>111</td>\n",
              "      <td>5000</td>\n",
              "      <td>21</td>\n",
              "      <td>27</td>\n",
              "      <td>16500.0</td>\n",
              "      <td>alfa-romeo</td>\n",
              "      <td>10820.1</td>\n",
              "      <td>(10796.8, 11246.35]</td>\n",
              "      <td>alfa-romero stelvio</td>\n",
              "    </tr>\n",
              "    <tr>\n",
              "      <th>2</th>\n",
              "      <td>3</td>\n",
              "      <td>1</td>\n",
              "      <td>alfa-romero Quadrifoglio</td>\n",
              "      <td>1</td>\n",
              "      <td>std</td>\n",
              "      <td>two</td>\n",
              "      <td>hatchback</td>\n",
              "      <td>2</td>\n",
              "      <td>front</td>\n",
              "      <td>94.5</td>\n",
              "      <td>171.2</td>\n",
              "      <td>65.5</td>\n",
              "      <td>52.4</td>\n",
              "      <td>2823</td>\n",
              "      <td>ohcv</td>\n",
              "      <td>six</td>\n",
              "      <td>152</td>\n",
              "      <td>mpfi</td>\n",
              "      <td>2.7</td>\n",
              "      <td>3.5</td>\n",
              "      <td>9.0</td>\n",
              "      <td>154</td>\n",
              "      <td>5000</td>\n",
              "      <td>19</td>\n",
              "      <td>26</td>\n",
              "      <td>16500.0</td>\n",
              "      <td>alfa-romeo</td>\n",
              "      <td>11213.6</td>\n",
              "      <td>(10796.8, 11246.35]</td>\n",
              "      <td>alfa-romero Quadrifoglio</td>\n",
              "    </tr>\n",
              "    <tr>\n",
              "      <th>3</th>\n",
              "      <td>4</td>\n",
              "      <td>2</td>\n",
              "      <td>audi 100 ls</td>\n",
              "      <td>1</td>\n",
              "      <td>std</td>\n",
              "      <td>four</td>\n",
              "      <td>sedan</td>\n",
              "      <td>1</td>\n",
              "      <td>front</td>\n",
              "      <td>99.8</td>\n",
              "      <td>176.6</td>\n",
              "      <td>66.2</td>\n",
              "      <td>54.3</td>\n",
              "      <td>2337</td>\n",
              "      <td>ohc</td>\n",
              "      <td>four</td>\n",
              "      <td>109</td>\n",
              "      <td>mpfi</td>\n",
              "      <td>3.2</td>\n",
              "      <td>3.4</td>\n",
              "      <td>10.0</td>\n",
              "      <td>102</td>\n",
              "      <td>5500</td>\n",
              "      <td>24</td>\n",
              "      <td>30</td>\n",
              "      <td>13950.0</td>\n",
              "      <td>audi</td>\n",
              "      <td>11690.9</td>\n",
              "      <td>(11558.72, 11823.7]</td>\n",
              "      <td>audi 100 ls</td>\n",
              "    </tr>\n",
              "    <tr>\n",
              "      <th>4</th>\n",
              "      <td>5</td>\n",
              "      <td>2</td>\n",
              "      <td>audi 100ls</td>\n",
              "      <td>1</td>\n",
              "      <td>std</td>\n",
              "      <td>four</td>\n",
              "      <td>sedan</td>\n",
              "      <td>0</td>\n",
              "      <td>front</td>\n",
              "      <td>99.4</td>\n",
              "      <td>176.6</td>\n",
              "      <td>66.4</td>\n",
              "      <td>54.3</td>\n",
              "      <td>2824</td>\n",
              "      <td>ohc</td>\n",
              "      <td>five</td>\n",
              "      <td>136</td>\n",
              "      <td>mpfi</td>\n",
              "      <td>3.2</td>\n",
              "      <td>3.4</td>\n",
              "      <td>8.0</td>\n",
              "      <td>115</td>\n",
              "      <td>5500</td>\n",
              "      <td>18</td>\n",
              "      <td>22</td>\n",
              "      <td>17450.0</td>\n",
              "      <td>audi</td>\n",
              "      <td>11726.2</td>\n",
              "      <td>(11558.72, 11823.7]</td>\n",
              "      <td>audi 100ls</td>\n",
              "    </tr>\n",
              "  </tbody>\n",
              "</table>\n",
              "</div>"
            ],
            "text/plain": [
              "   car_ID  symboling  ...          carsize_bin                  CarName1\n",
              "0       1          3  ...  (10796.8, 11246.35]        alfa-romero giulia\n",
              "1       2          3  ...  (10796.8, 11246.35]       alfa-romero stelvio\n",
              "2       3          1  ...  (10796.8, 11246.35]  alfa-romero Quadrifoglio\n",
              "3       4          2  ...  (11558.72, 11823.7]               audi 100 ls\n",
              "4       5          2  ...  (11558.72, 11823.7]                audi 100ls\n",
              "\n",
              "[5 rows x 30 columns]"
            ]
          },
          "metadata": {
            "tags": []
          },
          "execution_count": 78
        }
      ]
    },
    {
      "cell_type": "code",
      "metadata": {
        "colab": {
          "base_uri": "https://localhost:8080/",
          "height": 309
        },
        "id": "4wM5P6q06S58",
        "outputId": "073074f1-ed66-4755-d28d-80f88bfce007"
      },
      "source": [
        "##encode remaining features\n",
        "Full_df['aspiration'] =Full_df['aspiration'].astype('category').cat.codes\n",
        "\n",
        "Full_df['doornumber'] =Full_df['doornumber'].astype('category').cat.codes\n",
        "\n",
        "Full_df['carbody'] =Full_df['carbody'].astype('category').cat.codes\n",
        "\n",
        "Full_df['enginelocation'] =Full_df['enginelocation'].astype('category').cat.codes\n",
        "\n",
        "Full_df['enginetype'] =Full_df['enginetype'].astype('category').cat.codes\n",
        "\n",
        "Full_df['cylindernumber'] =Full_df['cylindernumber'].astype('category').cat.codes\n",
        "\n",
        "Full_df['fuelsystem'] =Full_df['fuelsystem'].astype('category').cat.codes\n",
        "\n",
        "Full_df['carbrand1'] =Full_df['CarBrand'].astype('category').cat.codes\n",
        "\n",
        "Full_df.head()"
      ],
      "execution_count": 79,
      "outputs": [
        {
          "output_type": "execute_result",
          "data": {
            "text/html": [
              "<div>\n",
              "<style scoped>\n",
              "    .dataframe tbody tr th:only-of-type {\n",
              "        vertical-align: middle;\n",
              "    }\n",
              "\n",
              "    .dataframe tbody tr th {\n",
              "        vertical-align: top;\n",
              "    }\n",
              "\n",
              "    .dataframe thead th {\n",
              "        text-align: right;\n",
              "    }\n",
              "</style>\n",
              "<table border=\"1\" class=\"dataframe\">\n",
              "  <thead>\n",
              "    <tr style=\"text-align: right;\">\n",
              "      <th></th>\n",
              "      <th>car_ID</th>\n",
              "      <th>symboling</th>\n",
              "      <th>CarName</th>\n",
              "      <th>fueltype</th>\n",
              "      <th>aspiration</th>\n",
              "      <th>doornumber</th>\n",
              "      <th>carbody</th>\n",
              "      <th>drivewheel</th>\n",
              "      <th>enginelocation</th>\n",
              "      <th>wheelbase</th>\n",
              "      <th>carlength</th>\n",
              "      <th>carwidth</th>\n",
              "      <th>carheight</th>\n",
              "      <th>curbweight</th>\n",
              "      <th>enginetype</th>\n",
              "      <th>cylindernumber</th>\n",
              "      <th>enginesize</th>\n",
              "      <th>fuelsystem</th>\n",
              "      <th>boreratio</th>\n",
              "      <th>stroke</th>\n",
              "      <th>compressionratio</th>\n",
              "      <th>horsepower</th>\n",
              "      <th>peakrpm</th>\n",
              "      <th>citympg</th>\n",
              "      <th>highwaympg</th>\n",
              "      <th>price</th>\n",
              "      <th>CarBrand</th>\n",
              "      <th>carsize</th>\n",
              "      <th>carsize_bin</th>\n",
              "      <th>CarName1</th>\n",
              "      <th>carbrand1</th>\n",
              "    </tr>\n",
              "  </thead>\n",
              "  <tbody>\n",
              "    <tr>\n",
              "      <th>0</th>\n",
              "      <td>1</td>\n",
              "      <td>3</td>\n",
              "      <td>alfa-romero giulia</td>\n",
              "      <td>1</td>\n",
              "      <td>0</td>\n",
              "      <td>1</td>\n",
              "      <td>0</td>\n",
              "      <td>2</td>\n",
              "      <td>0</td>\n",
              "      <td>88.6</td>\n",
              "      <td>168.8</td>\n",
              "      <td>64.1</td>\n",
              "      <td>48.8</td>\n",
              "      <td>2548</td>\n",
              "      <td>0</td>\n",
              "      <td>2</td>\n",
              "      <td>130</td>\n",
              "      <td>5</td>\n",
              "      <td>3.5</td>\n",
              "      <td>2.7</td>\n",
              "      <td>9.0</td>\n",
              "      <td>111</td>\n",
              "      <td>5000</td>\n",
              "      <td>21</td>\n",
              "      <td>27</td>\n",
              "      <td>13495.0</td>\n",
              "      <td>alfa-romeo</td>\n",
              "      <td>10820.1</td>\n",
              "      <td>(10796.8, 11246.35]</td>\n",
              "      <td>alfa-romero giulia</td>\n",
              "      <td>0</td>\n",
              "    </tr>\n",
              "    <tr>\n",
              "      <th>1</th>\n",
              "      <td>2</td>\n",
              "      <td>3</td>\n",
              "      <td>alfa-romero stelvio</td>\n",
              "      <td>1</td>\n",
              "      <td>0</td>\n",
              "      <td>1</td>\n",
              "      <td>0</td>\n",
              "      <td>2</td>\n",
              "      <td>0</td>\n",
              "      <td>88.6</td>\n",
              "      <td>168.8</td>\n",
              "      <td>64.1</td>\n",
              "      <td>48.8</td>\n",
              "      <td>2548</td>\n",
              "      <td>0</td>\n",
              "      <td>2</td>\n",
              "      <td>130</td>\n",
              "      <td>5</td>\n",
              "      <td>3.5</td>\n",
              "      <td>2.7</td>\n",
              "      <td>9.0</td>\n",
              "      <td>111</td>\n",
              "      <td>5000</td>\n",
              "      <td>21</td>\n",
              "      <td>27</td>\n",
              "      <td>16500.0</td>\n",
              "      <td>alfa-romeo</td>\n",
              "      <td>10820.1</td>\n",
              "      <td>(10796.8, 11246.35]</td>\n",
              "      <td>alfa-romero stelvio</td>\n",
              "      <td>0</td>\n",
              "    </tr>\n",
              "    <tr>\n",
              "      <th>2</th>\n",
              "      <td>3</td>\n",
              "      <td>1</td>\n",
              "      <td>alfa-romero Quadrifoglio</td>\n",
              "      <td>1</td>\n",
              "      <td>0</td>\n",
              "      <td>1</td>\n",
              "      <td>2</td>\n",
              "      <td>2</td>\n",
              "      <td>0</td>\n",
              "      <td>94.5</td>\n",
              "      <td>171.2</td>\n",
              "      <td>65.5</td>\n",
              "      <td>52.4</td>\n",
              "      <td>2823</td>\n",
              "      <td>5</td>\n",
              "      <td>3</td>\n",
              "      <td>152</td>\n",
              "      <td>5</td>\n",
              "      <td>2.7</td>\n",
              "      <td>3.5</td>\n",
              "      <td>9.0</td>\n",
              "      <td>154</td>\n",
              "      <td>5000</td>\n",
              "      <td>19</td>\n",
              "      <td>26</td>\n",
              "      <td>16500.0</td>\n",
              "      <td>alfa-romeo</td>\n",
              "      <td>11213.6</td>\n",
              "      <td>(10796.8, 11246.35]</td>\n",
              "      <td>alfa-romero Quadrifoglio</td>\n",
              "      <td>0</td>\n",
              "    </tr>\n",
              "    <tr>\n",
              "      <th>3</th>\n",
              "      <td>4</td>\n",
              "      <td>2</td>\n",
              "      <td>audi 100 ls</td>\n",
              "      <td>1</td>\n",
              "      <td>0</td>\n",
              "      <td>0</td>\n",
              "      <td>3</td>\n",
              "      <td>1</td>\n",
              "      <td>0</td>\n",
              "      <td>99.8</td>\n",
              "      <td>176.6</td>\n",
              "      <td>66.2</td>\n",
              "      <td>54.3</td>\n",
              "      <td>2337</td>\n",
              "      <td>3</td>\n",
              "      <td>2</td>\n",
              "      <td>109</td>\n",
              "      <td>5</td>\n",
              "      <td>3.2</td>\n",
              "      <td>3.4</td>\n",
              "      <td>10.0</td>\n",
              "      <td>102</td>\n",
              "      <td>5500</td>\n",
              "      <td>24</td>\n",
              "      <td>30</td>\n",
              "      <td>13950.0</td>\n",
              "      <td>audi</td>\n",
              "      <td>11690.9</td>\n",
              "      <td>(11558.72, 11823.7]</td>\n",
              "      <td>audi 100 ls</td>\n",
              "      <td>1</td>\n",
              "    </tr>\n",
              "    <tr>\n",
              "      <th>4</th>\n",
              "      <td>5</td>\n",
              "      <td>2</td>\n",
              "      <td>audi 100ls</td>\n",
              "      <td>1</td>\n",
              "      <td>0</td>\n",
              "      <td>0</td>\n",
              "      <td>3</td>\n",
              "      <td>0</td>\n",
              "      <td>0</td>\n",
              "      <td>99.4</td>\n",
              "      <td>176.6</td>\n",
              "      <td>66.4</td>\n",
              "      <td>54.3</td>\n",
              "      <td>2824</td>\n",
              "      <td>3</td>\n",
              "      <td>1</td>\n",
              "      <td>136</td>\n",
              "      <td>5</td>\n",
              "      <td>3.2</td>\n",
              "      <td>3.4</td>\n",
              "      <td>8.0</td>\n",
              "      <td>115</td>\n",
              "      <td>5500</td>\n",
              "      <td>18</td>\n",
              "      <td>22</td>\n",
              "      <td>17450.0</td>\n",
              "      <td>audi</td>\n",
              "      <td>11726.2</td>\n",
              "      <td>(11558.72, 11823.7]</td>\n",
              "      <td>audi 100ls</td>\n",
              "      <td>1</td>\n",
              "    </tr>\n",
              "  </tbody>\n",
              "</table>\n",
              "</div>"
            ],
            "text/plain": [
              "   car_ID  symboling  ...                  CarName1  carbrand1\n",
              "0       1          3  ...        alfa-romero giulia          0\n",
              "1       2          3  ...       alfa-romero stelvio          0\n",
              "2       3          1  ...  alfa-romero Quadrifoglio          0\n",
              "3       4          2  ...               audi 100 ls          1\n",
              "4       5          2  ...                audi 100ls          1\n",
              "\n",
              "[5 rows x 31 columns]"
            ]
          },
          "metadata": {
            "tags": []
          },
          "execution_count": 79
        }
      ]
    },
    {
      "cell_type": "code",
      "metadata": {
        "colab": {
          "base_uri": "https://localhost:8080/"
        },
        "id": "fvwRCv2O9qkv",
        "outputId": "756e65c4-b040-4cca-fa4c-62d28f106da4"
      },
      "source": [
        "Full_df[Full_df.columns[1:]].corr()['price'][:]"
      ],
      "execution_count": 80,
      "outputs": [
        {
          "output_type": "execute_result",
          "data": {
            "text/plain": [
              "symboling          -0.1\n",
              "fueltype           -0.1\n",
              "aspiration          0.2\n",
              "doornumber         -0.0\n",
              "carbody            -0.1\n",
              "drivewheel          0.6\n",
              "enginelocation      0.3\n",
              "wheelbase           0.6\n",
              "carlength           0.7\n",
              "carwidth            0.8\n",
              "carheight           0.1\n",
              "curbweight          0.8\n",
              "enginetype          0.0\n",
              "cylindernumber     -0.0\n",
              "enginesize          0.9\n",
              "fuelsystem          0.5\n",
              "boreratio           0.6\n",
              "stroke              0.1\n",
              "compressionratio    0.1\n",
              "horsepower          0.8\n",
              "peakrpm            -0.1\n",
              "citympg            -0.7\n",
              "highwaympg         -0.7\n",
              "price               1.0\n",
              "carsize             0.7\n",
              "carbrand1          -0.3\n",
              "Name: price, dtype: float64"
            ]
          },
          "metadata": {
            "tags": []
          },
          "execution_count": 80
        }
      ]
    },
    {
      "cell_type": "code",
      "metadata": {
        "colab": {
          "base_uri": "https://localhost:8080/",
          "height": 402
        },
        "id": "SUi3QM6aB7l3",
        "outputId": "aeaf3515-f9c2-4d3f-eb0b-46c516cc0242"
      },
      "source": [
        "import seaborn as sns\n",
        "\n",
        "plt.figure(figsize=(16, 6))\n",
        "# define the mask to set the values in the upper triangle to True\n",
        "mask = np.triu(np.ones_like(Full_df.corr(), dtype=np.bool))\n",
        "heatmap = sns.heatmap(Full_df.corr(), mask=mask, vmin=-1, vmax=1, annot=False, cmap='BrBG')\n",
        "heatmap.set_title('Triangle Correlation Heatmap', fontdict={'fontsize':18}, pad=16);"
      ],
      "execution_count": 81,
      "outputs": [
        {
          "output_type": "display_data",
          "data": {
            "image/png": "[encoded data removed]",
            "text/plain": [
              "<Figure size 1152x432 with 2 Axes>"
            ]
          },
          "metadata": {
            "tags": []
          }
        }
      ]
    },
    {
      "cell_type": "code",
      "metadata": {
        "colab": {
          "base_uri": "https://localhost:8080/"
        },
        "id": "14DEzCTc-XRQ",
        "outputId": "0022670f-a2c1-44ac-cff4-5d8750074d4f"
      },
      "source": [
        "#New data frame with only relevant features\n",
        "newDF=pd.DataFrame()\n",
        "\n",
        "#newDF['carwidth']=Full_df['carwidth'] \n",
        "#newDF['curbweight']=Full_df['curbweight']\n",
        "newDF['enginesize']=Full_df['enginesize']\n",
        "newDF['horsepower']=Full_df['horsepower']\n",
        "\n",
        "#newDF['mpg']=Full_df['citympg']*Full_df['highwaympg']/2 #this average actually ends up having a lower correlation, so I'll just use highway MPG\n",
        "#newDF['mpg']=Full_df['highwaympg']\n",
        "\n",
        "#newDF['price']=Full_df['price']\n",
        "\n",
        "\n",
        "newDF.head()\n",
        "\n",
        "\n",
        "#Feature normalization with z scores\n",
        "\n",
        "newDF_mean = newDF.mean()\n",
        "newDF_std = newDF.std()\n",
        "newDF_norm = (newDF - newDF_mean)/newDF_std\n",
        "\n",
        "\n",
        "newDF_norm.head()\n",
        "\n",
        "#I'm leaving price in the old df, but I need to normalize it anyways\n",
        "price_mean= Full_df['price'].mean()\n",
        "price_std= Full_df['price'].std()\n",
        "\n",
        "\n",
        "Full_df['Price1']=((Full_df['price']-price_mean)/price_std)\n",
        "Full_df.head()\n",
        "\n",
        "Full_df.describe()\n",
        "newDF_norm.describe()\n",
        "\n",
        "#newDF_norm[newDF_norm.columns[1:]].corr()['price'][:]\n",
        "\n",
        "print(newDF.head())\n",
        "print(newDF_norm.describe())"
      ],
      "execution_count": 113,
      "outputs": [
        {
          "output_type": "stream",
          "text": [
            "   enginesize  horsepower\n",
            "0         130         111\n",
            "1         130         111\n",
            "2         152         154\n",
            "3         109         102\n",
            "4         136         115\n",
            "       enginesize  horsepower\n",
            "count       205.0       205.0\n",
            "mean          0.0         0.0\n",
            "std           1.0         1.0\n",
            "min          -1.6        -1.4\n",
            "25%          -0.7        -0.9\n",
            "50%          -0.2        -0.2\n",
            "75%           0.3         0.3\n",
            "max           4.8         4.7\n"
          ],
          "name": "stdout"
        }
      ]
    },
    {
      "cell_type": "markdown",
      "metadata": {
        "id": "06CxUrkYyofv"
      },
      "source": [
        "# PCA- principal component analysis\n",
        "\n",
        " when you have very weak features"
      ]
    },
    {
      "cell_type": "markdown",
      "metadata": {
        "id": "zhpnLGMNkgL2"
      },
      "source": [
        "# SMV classifier"
      ]
    },
    {
      "cell_type": "code",
      "metadata": {
        "colab": {
          "base_uri": "https://localhost:8080/"
        },
        "id": "bk9M9NLcke86",
        "outputId": "a453a133-50fc-49e6-c35a-1730ed85533f"
      },
      "source": [
        "# Martin -> SVM classifier  (from https://scikit-learn.org/stable/supervised_learning.html )\n",
        "\n",
        "from sklearn import datasets\n",
        "from sklearn.model_selection import train_test_split\n",
        "from sklearn import svm\n",
        "from sklearn import metrics\n",
        "\n",
        "# Load dataset\n",
        "cancer = datasets.load_breast_cancer()\n",
        "\n",
        "\n",
        "#print(\"Features: \", cancer.feature_names)\n",
        "#print(\"Labels: \", cancer.target_names)\n",
        "#print(cancer.data.shape) # shape of my matrix\n",
        "#print(cancer.data[0:2])  #\n",
        "#print(cancer.target)     # print the cancer labels (0:malignant, 1:benign)\n",
        "\n",
        "\n",
        "# Split dataset into training set and test set\n",
        "X_train, X_test, y_train, y_test = train_test_split(\n",
        "     cancer.data, cancer.target, test_size=0.3,random_state=109) #30% of dataset is test, random state is like a seed\n",
        "\n",
        "#Create a svm Classifier\n",
        "clf = svm.SVC(kernel='linear') # Linear Kernel SVC- support vector machine that we use as a classifier - linear: it's a linear classification, I could use other functions, eg. ploynomial, gaussian, etc.\n",
        "\n",
        "#Train the model using the training sets\n",
        "clf.fit(X_train, y_train)\n",
        "\n",
        "#Predict the response for test dataset\n",
        "y_pred = clf.predict(X_test)\n",
        "\n",
        "print(\"Accuracy:\",metrics.accuracy_score(y_test, y_pred))\n",
        "\n",
        "###Confusion matrix\n",
        "\n",
        "#import matplotlib.pyplot as plt\n",
        "#data = {'y_test':    [1, 0, 0, 1, 0, 1, 0, 0, 1, 0, 1, 0],\n",
        "#        'y_Predicted': [1, 1, 0, 1, 0, 1, 1, 0, 1, 0, 0, 0]\n",
        "#        }\n",
        "#df = pd.DataFrame(data, columns=['y_Actual','y_Predicted'])\n",
        "#confusion_matrix = pd.crosstab(df['y_Actual'], df['y_Predicted'], rownames=['Actual'], colnames=['Predicted'])\n",
        "#sns.heatmap(confusion_matrix, annot=True)\n",
        "#plt.show()"
      ],
      "execution_count": 83,
      "outputs": [
        {
          "output_type": "stream",
          "text": [
            "Accuracy: 0.9649122807017544\n"
          ],
          "name": "stdout"
        }
      ]
    },
    {
      "cell_type": "markdown",
      "metadata": {
        "id": "DFIU1VXzRMMk"
      },
      "source": [
        "# SVM regression"
      ]
    },
    {
      "cell_type": "code",
      "metadata": {
        "colab": {
          "base_uri": "https://localhost:8080/",
          "height": 676
        },
        "id": "OpLjApDg2qY0",
        "outputId": "71ce1bd7-11b9-4c2b-bfab-00f4eea61136"
      },
      "source": [
        "from sklearn.svm import SVR\n",
        "from sklearn.pipeline import make_pipeline\n",
        "from sklearn.preprocessing import StandardScaler\n",
        "from sklearn import datasets\n",
        "from sklearn.model_selection import train_test_split\n",
        "from sklearn import svm\n",
        "from sklearn import metrics\n",
        "from sklearn.metrics import r2_score,mean_squared_error\n",
        "import matplotlib.pyplot as plt\n",
        "\n",
        "# Split dataset into training set and test set\n",
        "\n",
        "x=newDF_norm\n",
        "y=Full_df['Price1']\n",
        "\n",
        "x_train, x_test, y_train, y_test = train_test_split(\n",
        "     x, y, test_size=0.3,random_state=109) #30% of dataset is test, random state is like a seed. It draws the data randomly\n",
        "#Xs and ys are always coupled \n",
        "\n",
        "#training the model\n",
        "SupportVectorRegModel= SVR(kernel='linear', C=100, gamma='auto') #Kernel can be linear, poly, sigmoid, rbf is default\n",
        "SupportVectorRegModel.fit(x_train, y_train)\n",
        "\n",
        "\n",
        "#predict\n",
        "y_pred=SupportVectorRegModel.predict(x_test)\n",
        "y_pred\n",
        "\n",
        "print(y_pred)\n",
        "\n",
        "print(y_test)\n",
        "\n",
        "\n",
        "\n",
        "\n",
        "\n",
        "#Evaluate the model\n",
        "mse=mean_squared_error(y_test, y_pred)\n",
        "rmse= np.sqrt(mse)\n",
        "print('RMSE: ', rmse)\n",
        "\n",
        "\n",
        "\n",
        "plt.plot(x_train, y_train, marker='.', linestyle='none')\n",
        "plt.show()\n",
        "\n",
        "\n",
        "\n",
        "\n",
        "\n"
      ],
      "execution_count": 111,
      "outputs": [
        {
          "output_type": "stream",
          "text": [
            "[-0.82132509 -0.59262087 -0.27849159 -0.29064666  0.0711896   0.22133864\n",
            " -0.12118887 -0.89360257 -0.86326292 -0.71601257  0.03894038  0.88652255\n",
            " -0.04755502  0.63075652 -0.42943001  1.36704561 -0.23571876 -0.90710041\n",
            "  0.02643968  0.40172892 -0.09483812  0.14590943 -0.87716369  0.58091047\n",
            " -0.81923399 -0.91828789 -0.56499247  1.14905289  2.52707953 -0.17434722\n",
            " -0.93337646  0.63654523 -0.31161738  2.61659811  1.27400082 -0.56442842\n",
            " -0.23793415  0.77834484  0.04836714  0.48030665  0.60678199  0.60223914\n",
            "  2.16956595 -0.85086004 -0.92242573  0.52257365  0.56866608 -0.93627909\n",
            " -0.7281045   0.61193277 -0.91771399 -0.27849159  0.90442252 -0.56499247\n",
            " -0.459675    0.85861417 -0.31587683 -0.19515669 -0.81974975 -0.09402668\n",
            "  1.2631652  -0.6476155 ]\n",
            "97    -0.7\n",
            "23    -0.7\n",
            "28    -0.5\n",
            "100   -0.5\n",
            "135    0.3\n",
            "      ... \n",
            "87    -0.5\n",
            "36    -0.7\n",
            "131   -0.4\n",
            "68     1.9\n",
            "140   -0.7\n",
            "Name: Price1, Length: 62, dtype: float64\n",
            "RMSE:  0.4253871544886527\n"
          ],
          "name": "stdout"
        },
        {
          "output_type": "display_data",
          "data": {
            "image/png": "[encoded data removed]",
            "text/plain": [
              "<Figure size 432x288 with 1 Axes>"
            ]
          },
          "metadata": {
            "tags": []
          }
        }
      ]
    },
    {
      "cell_type": "markdown",
      "metadata": {
        "id": "d7W4_xobRIrR"
      },
      "source": [
        "# Linear Regression with Keras##"
      ]
    },
    {
      "cell_type": "code",
      "metadata": {
        "colab": {
          "base_uri": "https://localhost:8080/",
          "height": 204
        },
        "id": "l1wFxrtlclr9",
        "outputId": "927ec39c-af1a-4d4a-e8ba-4e10d2e427aa"
      },
      "source": [
        "### splitting training and testing data again from the original DF (with both x and y)\n",
        "newDF_norm['price']=Full_df['Price1'] #adding ys back into the original df\n",
        "newDF_norm.head()\n"
      ],
      "execution_count": 85,
      "outputs": [
        {
          "output_type": "execute_result",
          "data": {
            "text/html": [
              "<div>\n",
              "<style scoped>\n",
              "    .dataframe tbody tr th:only-of-type {\n",
              "        vertical-align: middle;\n",
              "    }\n",
              "\n",
              "    .dataframe tbody tr th {\n",
              "        vertical-align: top;\n",
              "    }\n",
              "\n",
              "    .dataframe thead th {\n",
              "        text-align: right;\n",
              "    }\n",
              "</style>\n",
              "<table border=\"1\" class=\"dataframe\">\n",
              "  <thead>\n",
              "    <tr style=\"text-align: right;\">\n",
              "      <th></th>\n",
              "      <th>carwidth</th>\n",
              "      <th>curbweight</th>\n",
              "      <th>enginesize</th>\n",
              "      <th>horsepower</th>\n",
              "      <th>mpg</th>\n",
              "      <th>price</th>\n",
              "    </tr>\n",
              "  </thead>\n",
              "  <tbody>\n",
              "    <tr>\n",
              "      <th>0</th>\n",
              "      <td>-0.8</td>\n",
              "      <td>-0.0</td>\n",
              "      <td>0.1</td>\n",
              "      <td>0.2</td>\n",
              "      <td>-0.5</td>\n",
              "      <td>0.0</td>\n",
              "    </tr>\n",
              "    <tr>\n",
              "      <th>1</th>\n",
              "      <td>-0.8</td>\n",
              "      <td>-0.0</td>\n",
              "      <td>0.1</td>\n",
              "      <td>0.2</td>\n",
              "      <td>-0.5</td>\n",
              "      <td>0.4</td>\n",
              "    </tr>\n",
              "    <tr>\n",
              "      <th>2</th>\n",
              "      <td>-0.2</td>\n",
              "      <td>0.5</td>\n",
              "      <td>0.6</td>\n",
              "      <td>1.3</td>\n",
              "      <td>-0.7</td>\n",
              "      <td>0.4</td>\n",
              "    </tr>\n",
              "    <tr>\n",
              "      <th>3</th>\n",
              "      <td>0.1</td>\n",
              "      <td>-0.4</td>\n",
              "      <td>-0.4</td>\n",
              "      <td>-0.1</td>\n",
              "      <td>-0.1</td>\n",
              "      <td>0.1</td>\n",
              "    </tr>\n",
              "    <tr>\n",
              "      <th>4</th>\n",
              "      <td>0.2</td>\n",
              "      <td>0.5</td>\n",
              "      <td>0.2</td>\n",
              "      <td>0.3</td>\n",
              "      <td>-1.3</td>\n",
              "      <td>0.5</td>\n",
              "    </tr>\n",
              "  </tbody>\n",
              "</table>\n",
              "</div>"
            ],
            "text/plain": [
              "   carwidth  curbweight  enginesize  horsepower  mpg  price\n",
              "0      -0.8        -0.0         0.1         0.2 -0.5    0.0\n",
              "1      -0.8        -0.0         0.1         0.2 -0.5    0.4\n",
              "2      -0.2         0.5         0.6         1.3 -0.7    0.4\n",
              "3       0.1        -0.4        -0.4        -0.1 -0.1    0.1\n",
              "4       0.2         0.5         0.2         0.3 -1.3    0.5"
            ]
          },
          "metadata": {
            "tags": []
          },
          "execution_count": 85
        }
      ]
    },
    {
      "cell_type": "code",
      "metadata": {
        "id": "iNgI9dK9fpOy"
      },
      "source": [
        "# Renaming price as target?\n",
        "newDF_norm['target'] = newDF_norm['price']\n",
        "\n",
        "# Drop un-used columns.\n",
        "newDF_norm = newDF_norm.drop(columns=['price'])"
      ],
      "execution_count": 86,
      "outputs": []
    },
    {
      "cell_type": "code",
      "metadata": {
        "colab": {
          "base_uri": "https://localhost:8080/"
        },
        "id": "dpycujlCddPa",
        "outputId": "ad81fdef-1a0d-49e8-c0aa-549266f643dc"
      },
      "source": [
        "train, test = train_test_split(newDF_norm, test_size=0.2)\n",
        "train, val = train_test_split(train, test_size=0.2)\n",
        "print(len(train), 'train examples')\n",
        "print(len(val), 'validation examples')\n",
        "print(len(test), 'test examples')"
      ],
      "execution_count": 87,
      "outputs": [
        {
          "output_type": "stream",
          "text": [
            "131 train examples\n",
            "33 validation examples\n",
            "41 test examples\n"
          ],
          "name": "stdout"
        }
      ]
    },
    {
      "cell_type": "code",
      "metadata": {
        "colab": {
          "base_uri": "https://localhost:8080/"
        },
        "id": "_FN_XxbneTmf",
        "outputId": "e9fe5511-2472-415d-ea94-fdb0283f39d6"
      },
      "source": [
        "##Creating an input pipline to carry data from the df to tf keras\n",
        "\n",
        "# A utility method to create a tf.data dataset from a Pandas Dataframe\n",
        "def df_to_dataset(newDF_norm, shuffle=True, batch_size=32):\n",
        "  newDF_norm = newDF_norm.copy()\n",
        "  labels = newDF_norm.pop('target')\n",
        "  ds = tf.data.Dataset.from_tensor_slices((dict(newDF_norm), labels))\n",
        "  if shuffle:\n",
        "    ds = ds.shuffle(buffer_size=len(newDF_norm))\n",
        "  ds = ds.batch(batch_size)\n",
        "  return ds\n",
        "\n",
        "\n",
        "batch_size = 5 # A small batch sized is used for demonstration purposes\n",
        "train_ds = df_to_dataset(train, batch_size=batch_size)\n",
        "val_ds = df_to_dataset(val, shuffle=False, batch_size=batch_size)\n",
        "test_ds = df_to_dataset(test, shuffle=False, batch_size=batch_size)\n",
        "\n",
        "\n",
        "for feature_batch, label_batch in train_ds.take(1):\n",
        "  print('Every feature:', list(feature_batch.keys()))\n",
        "  print('A batch of hp:', feature_batch['horsepower'])\n",
        "  print('A batch of targets:', label_batch )"
      ],
      "execution_count": 88,
      "outputs": [
        {
          "output_type": "stream",
          "text": [
            "Every feature: ['carwidth', 'curbweight', 'enginesize', 'horsepower', 'mpg']\n",
            "A batch of hp: tf.Tensor([ 0.30049759  0.04761579 -0.23055419 -1.31794592  0.42693849], shape=(5,), dtype=float64)\n",
            "A batch of targets: tf.Tensor([ 0.54980231  1.15076472 -0.0096022  -0.66113509  1.41300514], shape=(5,), dtype=float64)\n"
          ],
          "name": "stdout"
        }
      ]
    },
    {
      "cell_type": "code",
      "metadata": {
        "id": "InCRTBc0Vw5z"
      },
      "source": [
        "import tensorflow as tf\n",
        "from tensorflow.keras import layers\n",
        "from tensorflow import feature_column\n",
        "\n",
        "feature_columns=[]\n",
        "\n",
        "for header in ['carwidth', 'curbweight', 'enginesize', 'horsepower', 'mpg']:\n",
        "  feature_columns.append(feature_column.numeric_column(header))\n",
        "\n",
        "\n",
        "\n",
        "#feature_columns.append(newDF_norm['carwidth']) \n",
        "#feature_columns.append(newDF_norm['curbweight'])\n",
        "#feature_columns.append(newDF_norm['enginesize'])\n",
        "#feature_columns.append(newDF_norm['horsepower'])\n",
        "#feature_columns.append(newDF_norm['mpg'])\n",
        "\n",
        "# Convert the list of feature columns into a layer that will later be fed into\n",
        "# the model. \n",
        "\n",
        "my_feature_layer = tf.keras.layers.DenseFeatures(feature_columns)"
      ],
      "execution_count": 89,
      "outputs": []
    },
    {
      "cell_type": "code",
      "metadata": {
        "colab": {
          "base_uri": "https://localhost:8080/"
        },
        "id": "cXYre6eSdk_e",
        "outputId": "ba2da763-c0f6-44b0-8cbf-44acca57d094"
      },
      "source": [
        "# Define the plotting function.\n",
        "\n",
        "def plot_the_loss_curve(epochs, mse):\n",
        "  \"\"\"Plot a curve of loss vs. epoch.\"\"\"\n",
        "\n",
        "  plt.figure()\n",
        "  plt.xlabel(\"Epoch\")\n",
        "  plt.ylabel(\"Mean Squared Error\")\n",
        "\n",
        "  plt.plot(epochs, mse, label=\"Loss\")\n",
        "  plt.legend()\n",
        "  plt.ylim([mse.min()*0.95, mse.max() * 1.03])\n",
        "  plt.show()  \n",
        "\n",
        "print(\"Defined the plot_the_loss_curve function.\")"
      ],
      "execution_count": 90,
      "outputs": [
        {
          "output_type": "stream",
          "text": [
            "Defined the plot_the_loss_curve function.\n"
          ],
          "name": "stdout"
        }
      ]
    },
    {
      "cell_type": "code",
      "metadata": {
        "colab": {
          "base_uri": "https://localhost:8080/"
        },
        "id": "aDSElgENdolD",
        "outputId": "39ccfb8c-b347-4e1a-e71a-d480197b0b91"
      },
      "source": [
        "# Define functions to create and train a linear regression model\n",
        "def create_model(my_learning_rate, feature_layer):\n",
        "  \"\"\"Create and compile a simple linear regression model.\"\"\"\n",
        "  # Most simple tf.keras models are sequential.\n",
        "  model = tf.keras.models.Sequential()\n",
        "\n",
        "  # Add the layer containing the feature columns to the model.\n",
        "  model.add(feature_layer)\n",
        "\n",
        "  # Add one linear layer to the model to yield a simple linear regressor.\n",
        "  model.add(tf.keras.layers.Dense(units=1, input_shape=(1,)))\n",
        "\n",
        "  # Construct the layers into a model that TensorFlow can execute.\n",
        "  model.compile(optimizer=tf.keras.optimizers.RMSprop(lr=my_learning_rate),\n",
        "                loss=\"mean_squared_error\",\n",
        "                metrics=[tf.keras.metrics.MeanSquaredError()])\n",
        "\n",
        "  return model           \n",
        "\n",
        "\n",
        "def train_model(model, dataset, epochs, batch_size, label_name):\n",
        "  \"\"\"Feed a dataset into the model in order to train it.\"\"\"\n",
        "\n",
        "  # Split the dataset into features and label.\n",
        "  \n",
        "  #features = {name:np.array(value) for name, value in dataset.items()}\n",
        "  features=feature_columns\n",
        "  label = labels\n",
        "\n",
        "\n",
        "  #label = np.array(features.pop(label_name))\n",
        "\n",
        "  history = model.fit(x=features, y=label, batch_size=batch_size,\n",
        "                      epochs=epochs, shuffle=True)\n",
        "\n",
        "  # Get details that will be useful for plotting the loss curve.\n",
        "  epochs = history.epoch\n",
        "  hist = pd.DataFrame(history.history)\n",
        "  rmse = hist[\"mean_squared_error\"]\n",
        "\n",
        "  return epochs, rmse   \n",
        "\n",
        "print(\"Defined the create_model and train_model functions.\")"
      ],
      "execution_count": 91,
      "outputs": [
        {
          "output_type": "stream",
          "text": [
            "Defined the create_model and train_model functions.\n"
          ],
          "name": "stdout"
        }
      ]
    },
    {
      "cell_type": "code",
      "metadata": {
        "colab": {
          "base_uri": "https://localhost:8080/",
          "height": 477
        },
        "id": "E19no9okfMOr",
        "outputId": "92ecae5c-25f0-470a-bbae-db8bae1d08d4"
      },
      "source": [
        "# The following variables are the hyperparameters.\n",
        "learning_rate = 0.01\n",
        "epochs = 15\n",
        "batch_size = 10\n",
        "label_name = \"price\"\n",
        "\n",
        "# Establish the model's topography.\n",
        "my_model = create_model(learning_rate, my_feature_layer)\n",
        "\n",
        "# Train the model on the normalized training set.\n",
        "epochs, mse = train_model(my_model, train, epochs, batch_size, label_name)\n",
        "plot_the_loss_curve(epochs, mse)\n",
        "\n",
        "test_features = {name:np.array(value) for name, value in test.items()}\n",
        "test_label = np.array(test_features.pop(label_name)) # isolate the label\n",
        "print(\"\\n Evaluate the linear regression model against the test set:\")\n",
        "my_model.evaluate(x = test_features, y = test_label, batch_size=batch_size)"
      ],
      "execution_count": 92,
      "outputs": [
        {
          "output_type": "error",
          "ename": "ValueError",
          "evalue": "ignored",
          "traceback": [
            "\u001b[0;31m---------------------------------------------------------------------------\u001b[0m",
            "\u001b[0;31mValueError\u001b[0m                                Traceback (most recent call last)",
            "\u001b[0;32m<ipython-input-92-e683808cf6d7>\u001b[0m in \u001b[0;36m<module>\u001b[0;34m()\u001b[0m\n\u001b[1;32m      9\u001b[0m \u001b[0;34m\u001b[0m\u001b[0m\n\u001b[1;32m     10\u001b[0m \u001b[0;31m# Train the model on the normalized training set.\u001b[0m\u001b[0;34m\u001b[0m\u001b[0;34m\u001b[0m\u001b[0;34m\u001b[0m\u001b[0m\n\u001b[0;32m---> 11\u001b[0;31m \u001b[0mepochs\u001b[0m\u001b[0;34m,\u001b[0m \u001b[0mmse\u001b[0m \u001b[0;34m=\u001b[0m \u001b[0mtrain_model\u001b[0m\u001b[0;34m(\u001b[0m\u001b[0mmy_model\u001b[0m\u001b[0;34m,\u001b[0m \u001b[0mtrain\u001b[0m\u001b[0;34m,\u001b[0m \u001b[0mepochs\u001b[0m\u001b[0;34m,\u001b[0m \u001b[0mbatch_size\u001b[0m\u001b[0;34m,\u001b[0m \u001b[0mlabel_name\u001b[0m\u001b[0;34m)\u001b[0m\u001b[0;34m\u001b[0m\u001b[0;34m\u001b[0m\u001b[0m\n\u001b[0m\u001b[1;32m     12\u001b[0m \u001b[0mplot_the_loss_curve\u001b[0m\u001b[0;34m(\u001b[0m\u001b[0mepochs\u001b[0m\u001b[0;34m,\u001b[0m \u001b[0mmse\u001b[0m\u001b[0;34m)\u001b[0m\u001b[0;34m\u001b[0m\u001b[0;34m\u001b[0m\u001b[0m\n\u001b[1;32m     13\u001b[0m \u001b[0;34m\u001b[0m\u001b[0m\n",
            "\u001b[0;32m<ipython-input-91-488fc43f88fb>\u001b[0m in \u001b[0;36mtrain_model\u001b[0;34m(model, dataset, epochs, batch_size, label_name)\u001b[0m\n\u001b[1;32m     32\u001b[0m \u001b[0;34m\u001b[0m\u001b[0m\n\u001b[1;32m     33\u001b[0m   history = model.fit(x=features, y=label, batch_size=batch_size,\n\u001b[0;32m---> 34\u001b[0;31m                       epochs=epochs, shuffle=True)\n\u001b[0m\u001b[1;32m     35\u001b[0m \u001b[0;34m\u001b[0m\u001b[0m\n\u001b[1;32m     36\u001b[0m   \u001b[0;31m# Get details that will be useful for plotting the loss curve.\u001b[0m\u001b[0;34m\u001b[0m\u001b[0;34m\u001b[0m\u001b[0;34m\u001b[0m\u001b[0m\n",
            "\u001b[0;32m/usr/local/lib/python3.7/dist-packages/tensorflow/python/keras/engine/training.py\u001b[0m in \u001b[0;36mfit\u001b[0;34m(self, x, y, batch_size, epochs, verbose, callbacks, validation_split, validation_data, shuffle, class_weight, sample_weight, initial_epoch, steps_per_epoch, validation_steps, validation_batch_size, validation_freq, max_queue_size, workers, use_multiprocessing)\u001b[0m\n\u001b[1;32m   1062\u001b[0m           \u001b[0muse_multiprocessing\u001b[0m\u001b[0;34m=\u001b[0m\u001b[0muse_multiprocessing\u001b[0m\u001b[0;34m,\u001b[0m\u001b[0;34m\u001b[0m\u001b[0;34m\u001b[0m\u001b[0m\n\u001b[1;32m   1063\u001b[0m           \u001b[0mmodel\u001b[0m\u001b[0;34m=\u001b[0m\u001b[0mself\u001b[0m\u001b[0;34m,\u001b[0m\u001b[0;34m\u001b[0m\u001b[0;34m\u001b[0m\u001b[0m\n\u001b[0;32m-> 1064\u001b[0;31m           steps_per_execution=self._steps_per_execution)\n\u001b[0m\u001b[1;32m   1065\u001b[0m \u001b[0;34m\u001b[0m\u001b[0m\n\u001b[1;32m   1066\u001b[0m       \u001b[0;31m# Container that configures and calls `tf.keras.Callback`s.\u001b[0m\u001b[0;34m\u001b[0m\u001b[0;34m\u001b[0m\u001b[0;34m\u001b[0m\u001b[0m\n",
            "\u001b[0;32m/usr/local/lib/python3.7/dist-packages/tensorflow/python/keras/engine/data_adapter.py\u001b[0m in \u001b[0;36m__init__\u001b[0;34m(self, x, y, sample_weight, batch_size, steps_per_epoch, initial_epoch, epochs, shuffle, class_weight, max_queue_size, workers, use_multiprocessing, model, steps_per_execution)\u001b[0m\n\u001b[1;32m   1097\u001b[0m       \u001b[0mself\u001b[0m\u001b[0;34m.\u001b[0m\u001b[0m_steps_per_execution_value\u001b[0m \u001b[0;34m=\u001b[0m \u001b[0msteps_per_execution\u001b[0m\u001b[0;34m.\u001b[0m\u001b[0mnumpy\u001b[0m\u001b[0;34m(\u001b[0m\u001b[0;34m)\u001b[0m\u001b[0;34m.\u001b[0m\u001b[0mitem\u001b[0m\u001b[0;34m(\u001b[0m\u001b[0;34m)\u001b[0m\u001b[0;34m\u001b[0m\u001b[0;34m\u001b[0m\u001b[0m\n\u001b[1;32m   1098\u001b[0m \u001b[0;34m\u001b[0m\u001b[0m\n\u001b[0;32m-> 1099\u001b[0;31m     \u001b[0madapter_cls\u001b[0m \u001b[0;34m=\u001b[0m \u001b[0mselect_data_adapter\u001b[0m\u001b[0;34m(\u001b[0m\u001b[0mx\u001b[0m\u001b[0;34m,\u001b[0m \u001b[0my\u001b[0m\u001b[0;34m)\u001b[0m\u001b[0;34m\u001b[0m\u001b[0;34m\u001b[0m\u001b[0m\n\u001b[0m\u001b[1;32m   1100\u001b[0m     self._adapter = adapter_cls(\n\u001b[1;32m   1101\u001b[0m         \u001b[0mx\u001b[0m\u001b[0;34m,\u001b[0m\u001b[0;34m\u001b[0m\u001b[0;34m\u001b[0m\u001b[0m\n",
            "\u001b[0;32m/usr/local/lib/python3.7/dist-packages/tensorflow/python/keras/engine/data_adapter.py\u001b[0m in \u001b[0;36mselect_data_adapter\u001b[0;34m(x, y)\u001b[0m\n\u001b[1;32m    962\u001b[0m         \u001b[0;34m\"Failed to find data adapter that can handle \"\u001b[0m\u001b[0;34m\u001b[0m\u001b[0;34m\u001b[0m\u001b[0m\n\u001b[1;32m    963\u001b[0m         \"input: {}, {}\".format(\n\u001b[0;32m--> 964\u001b[0;31m             _type_name(x), _type_name(y)))\n\u001b[0m\u001b[1;32m    965\u001b[0m   \u001b[0;32melif\u001b[0m \u001b[0mlen\u001b[0m\u001b[0;34m(\u001b[0m\u001b[0madapter_cls\u001b[0m\u001b[0;34m)\u001b[0m \u001b[0;34m>\u001b[0m \u001b[0;36m1\u001b[0m\u001b[0;34m:\u001b[0m\u001b[0;34m\u001b[0m\u001b[0;34m\u001b[0m\u001b[0m\n\u001b[1;32m    966\u001b[0m     raise RuntimeError(\n",
            "\u001b[0;31mValueError\u001b[0m: Failed to find data adapter that can handle input: (<class 'list'> containing values of types {'(<class \\'tensorflow.python.feature_column.feature_column_v2.NumericColumn\\'> containing values of types {\\'(<class \\\\\\'tuple\\\\\\'> containing values of types {\"<class \\\\\\'int\\\\\\'>\"})\\', \"<class \\'str\\'>\", \"<class \\'tensorflow.python.framework.dtypes.DType\\'>\", \"<class \\'NoneType\\'>\"})'}), <class 'numpy.ndarray'>"
          ]
        }
      ]
    },
    {
      "cell_type": "code",
      "metadata": {
        "id": "_NWXV1RL3IrN"
      },
      "source": [
        "# Martin --> Regression with SVMs\n",
        "\n",
        "import numpy as np\n",
        "from sklearn.svm import SVR\n",
        "import matplotlib.pyplot as plt\n",
        "\n",
        "# Generate sample data\n",
        "X = np.sort(5 * np.random.rand(40, 1), axis=0)\n",
        "y = np.sin(X).ravel()\n",
        "\n",
        "# Add noise to targets\n",
        "y[::5] += 3 * (0.5 - np.random.rand(8))\n",
        "\n",
        "# Fit regression model\n",
        "svr_rbf = SVR(kernel='rbf', C=100, gamma=0.1, epsilon=.1)\n",
        "svr_lin = SVR(kernel='linear', C=100, gamma='auto')\n",
        "svr_poly = SVR(kernel='poly', C=100, gamma='auto', degree=3, epsilon=.1,\n",
        "               coef0=1)\n",
        "\n",
        "# Look at the results\n",
        "lw = 2\n",
        "\n",
        "svrs = [svr_rbf, svr_lin, svr_poly]\n",
        "kernel_label = ['RBF', 'Linear', 'Polynomial']\n",
        "model_color = ['m', 'c', 'g']\n",
        "\n",
        "fig, axes = plt.subplots(nrows=1, ncols=3, figsize=(15, 10), sharey=True)\n",
        "for ix, svr in enumerate(svrs):\n",
        "    axes[ix].plot(X, svr.fit(X, y).predict(X), color=model_color[ix], lw=lw,\n",
        "                  label='{} model'.format(kernel_label[ix]))\n",
        "    axes[ix].scatter(X[svr.support_], y[svr.support_], facecolor=\"none\",\n",
        "                     edgecolor=model_color[ix], s=50,\n",
        "                     label='{} support vectors'.format(kernel_label[ix]))\n",
        "    axes[ix].scatter(X[np.setdiff1d(np.arange(len(X)), svr.support_)],\n",
        "                     y[np.setdiff1d(np.arange(len(X)), svr.support_)],\n",
        "                     facecolor=\"none\", edgecolor=\"k\", s=50,\n",
        "                     label='other training data')\n",
        "    axes[ix].legend(loc='upper center', bbox_to_anchor=(0.5, 1.1),\n",
        "                    ncol=1, fancybox=True, shadow=True)\n",
        "\n",
        "fig.text(0.5, 0.04, 'data', ha='center', va='center')\n",
        "fig.text(0.06, 0.5, 'target', ha='center', va='center', rotation='vertical')\n",
        "fig.suptitle(\"Support Vector Regression\", fontsize=14)\n",
        "plt.show()"
      ],
      "execution_count": null,
      "outputs": []
    },
    {
      "cell_type": "code",
      "metadata": {
        "id": "kfgkG8Pt7g_B"
      },
      "source": [
        "# Martin -> PCA\n",
        "import pandas as pd\n",
        "url = \"https://archive.ics.uci.edu/ml/machine-learning-databases/iris/iris.data\"\n",
        "# load dataset into Pandas DataFrame\n",
        "df = pd.read_csv(url, names=['sepal length','sepal width','petal length','petal width','target'])\n",
        "\n",
        "from sklearn.preprocessing import StandardScaler\n",
        "features = ['sepal length', 'sepal width', 'petal length', 'petal width']\n",
        "\n",
        "# Separating out the features\n",
        "x = df.loc[:, features].values\n",
        "# Separating out the target\n",
        "y = df.loc[:,['target']].values\n",
        "# Standardizing the features\n",
        "x = StandardScaler().fit_transform(x)\n",
        "\n",
        "from sklearn.decomposition import PCA\n",
        "pca = PCA(n_components=2)\n",
        "principalComponents = pca.fit_transform(x)\n",
        "principalDf = pd.DataFrame(data = principalComponents\n",
        "             , columns = ['principal component 1', 'principal component 2'])\n",
        "\n",
        "finalDf = pd.concat([principalDf, df[['target']]], axis = 1)\n",
        "\n",
        "\n",
        "fig = plt.figure(figsize = (8,8))\n",
        "ax = fig.add_subplot(1,1,1) \n",
        "ax.set_xlabel('Principal Component 1', fontsize = 15)\n",
        "ax.set_ylabel('Principal Component 2', fontsize = 15)\n",
        "ax.set_title('2 component PCA', fontsize = 20)\n",
        "targets = ['Iris-setosa', 'Iris-versicolor', 'Iris-virginica']\n",
        "colors = ['r', 'g', 'b']\n",
        "for target, color in zip(targets,colors):\n",
        "    indicesToKeep = finalDf['target'] == target\n",
        "    ax.scatter(finalDf.loc[indicesToKeep, 'principal component 1']\n",
        "               , finalDf.loc[indicesToKeep, 'principal component 2']\n",
        "               , c = color\n",
        "               , s = 50)\n",
        "ax.legend(targets)\n",
        "ax.grid()"
      ],
      "execution_count": null,
      "outputs": []
    },
    {
      "cell_type": "code",
      "metadata": {
        "id": "UQxLSPUA8gO7"
      },
      "source": [
        "# The explained variance tells you how much information (variance) can be attributed to each of the principal components. \n",
        "# This is important as while you can convert 4 dimensional space to 2 dimensional space, you lose some of the variance (information) \n",
        "# when you do this. By using the attribute explained_variance_ratio_, you can see that the first principal component contains 72.77% \n",
        "# of the variance and the second principal component contains 23.03% of the variance. Together, the two components contain 95.80% of the \n",
        "# information.\n",
        "\n",
        "pca.explained_variance_ratio_\n",
        "\n"
      ],
      "execution_count": null,
      "outputs": []
    }
  ]
}